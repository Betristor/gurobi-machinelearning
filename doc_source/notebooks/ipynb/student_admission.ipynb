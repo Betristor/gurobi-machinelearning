{
 "cells": [
  {
   "cell_type": "markdown",
   "id": "571e5a0b",
   "metadata": {},
   "source": [
    "# Integrate a logistic regression in a Gurobi model\n",
    "*Note: The resulting model in this example will be too large for a size-limited license; in order to solve it, please visit https://www.gurobi.com/free-trial for a full license*\n",
    "\n",
    "We take the model from JANOS example:\n",
    "\n",
    "$\n",
    "\\begin{align}\n",
    "&\\max \\sum y_i \\\\\n",
    "&\\text{subject to:}\\\\\n",
    "&\\sum x_i \\le 100,\\\\\n",
    "&y_i = g(x_i, \\psi),\\\\\n",
    "& 0 \\le x \\le 2.5.\n",
    "\\end{align}\n",
    "$\n",
    "\n",
    "Where, $\\psi$ is a matrix of known features. And $g$ is a logistic function computed using the  logistic regression of scikit-learn.\n",
    "\n",
    "Note that differently to JANOS, we scale the feature corresponding to $x$ for the regression."
   ]
  },
  {
   "cell_type": "code",
   "execution_count": null,
   "id": "c1699b80",
   "metadata": {},
   "outputs": [],
   "source": [
    "import gurobipy as gp\n",
    "import numpy as np\n",
    "import pandas as pd\n",
    "from matplotlib import pyplot as plt\n",
    "from sklearn.linear_model import LogisticRegression\n",
    "from sklearn.pipeline import make_pipeline\n",
    "from sklearn.preprocessing import StandardScaler\n",
    "\n",
    "from gurobi_ml import add_predictor_constr\n",
    "\n",
    "# Base URL for retrieving data\n",
    "janos_data_url = 'https://raw.githubusercontent.com/INFORMSJoC/2020.1023/master/data/'"
   ]
  },
  {
   "cell_type": "code",
   "execution_count": null,
   "id": "1793015e",
   "metadata": {},
   "outputs": [],
   "source": [
    "historical_data = pd.read_csv(janos_data_url + 'college_student_enroll-s1-1.csv', index_col=0)\n",
    "\n",
    "# classify our features between the ones that are fixed and the ones that will be\n",
    "# part of the optimization problem\n",
    "known_features = [\"SAT\", \"GPA\"]\n",
    "dec_features = [\"merit\"]\n",
    "target = \"enroll\"\n",
    "features = known_features + dec_features\n",
    "\n",
    "historical_data = historical_data[features + [target]]"
   ]
  },
  {
   "cell_type": "markdown",
   "id": "e5ec98d5",
   "metadata": {},
   "source": [
    "### Do our logistic regression"
   ]
  },
  {
   "cell_type": "code",
   "execution_count": null,
   "id": "415ad49a",
   "metadata": {},
   "outputs": [],
   "source": [
    "# Run our regression\n",
    "X = historical_data.loc[:, features]\n",
    "Y = historical_data.loc[:, target]\n",
    "scaler = StandardScaler()\n",
    "regression = LogisticRegression(random_state=1, penalty='l1', C=10, solver='saga')\n",
    "pipe = make_pipeline(scaler, regression)\n",
    "pipe.fit(X=X, y=Y)"
   ]
  },
  {
   "cell_type": "markdown",
   "id": "4516dbf4",
   "metadata": {},
   "source": [
    "### Now start with the optimization model\n",
    "\n",
    "- Read in our data\n",
    "- add the x and y variables and the regular matrix constraints"
   ]
  },
  {
   "cell_type": "code",
   "execution_count": null,
   "id": "14f65e3b",
   "metadata": {},
   "outputs": [],
   "source": [
    "# Retrieve new data used to build the optimization problem\n",
    "studentsdata = pd.read_csv(janos_data_url + 'college_applications6000.csv', index_col=0)\n",
    "\n",
    "studentsdata = studentsdata[known_features]\n",
    "nstudents = 500\n",
    "\n",
    "# Select randomly nstudents in the data\n",
    "studentsdata = studentsdata.sample(nstudents)"
   ]
  },
  {
   "cell_type": "code",
   "execution_count": null,
   "id": "19c5a68c",
   "metadata": {},
   "outputs": [],
   "source": [
    "# Start with classical part of the model\n",
    "m = gp.Model()\n",
    "\n",
    "knownidx = historical_data.columns.get_indexer(known_features)\n",
    "scholarshipidx = historical_data.columns.get_indexer(dec_features)\n",
    "\n",
    "lb = np.zeros((nstudents, len(features)))\n",
    "ub = np.ones((nstudents, len(features))) * gp.GRB.INFINITY\n",
    "lb[:, knownidx] = studentsdata.loc[:, known_features]\n",
    "ub[:, knownidx] = studentsdata.loc[:, known_features]\n",
    "\n",
    "x = m.addMVar(lb.shape, lb=lb, ub=ub, name=\"x\")\n",
    "scholarship = x[:, scholarshipidx][:, 0]\n",
    "y = m.addMVar(nstudents, ub=1, name=\"y\")\n",
    "\n",
    "scholarship.LB = 0.0\n",
    "scholarship.UB = 2.5\n",
    "\n",
    "m.setObjective(y.sum(), gp.GRB.MAXIMIZE)\n",
    "m.addConstr(scholarship.sum() <= 0.2 * nstudents)\n",
    "\n",
    "pred_constr = add_predictor_constr(m, pipe, x, y)"
   ]
  },
  {
   "cell_type": "code",
   "execution_count": null,
   "id": "210bd7be",
   "metadata": {},
   "outputs": [],
   "source": [
    "pred_constr.print_stats()"
   ]
  },
  {
   "cell_type": "markdown",
   "id": "e335772c",
   "metadata": {},
   "source": [
    "### Finally optimize it"
   ]
  },
  {
   "cell_type": "code",
   "execution_count": null,
   "id": "a04b3643",
   "metadata": {},
   "outputs": [],
   "source": [
    "m.optimize()"
   ]
  },
  {
   "cell_type": "markdown",
   "id": "9b8f0ce7",
   "metadata": {},
   "source": [
    "### Look at solution"
   ]
  },
  {
   "cell_type": "code",
   "execution_count": null,
   "id": "da8630f3",
   "metadata": {},
   "outputs": [],
   "source": [
    "# This is what we predicted\n",
    "plt.scatter(scholarship.X, y.X)"
   ]
  },
  {
   "cell_type": "code",
   "execution_count": null,
   "id": "fa64c53f",
   "metadata": {},
   "outputs": [],
   "source": [
    "# This is the historical data\n",
    "plt.scatter(X.loc[:, \"merit\"], pipe.predict_proba(X)[:, 1])"
   ]
  },
  {
   "cell_type": "code",
   "execution_count": null,
   "id": "64cb0f3b",
   "metadata": {},
   "outputs": [],
   "source": [
    "# Proportion of students offered a scholarship\n",
    "print(\n",
    "    \"In historical data {:.4}% students offered a scholarship\".format(\n",
    "        100 * (sum(historical_data.loc[:, \"merit\"] > 0) / len(historical_data.loc[:, \"merit\"]))\n",
    "    )\n",
    ")\n",
    "print(\"In our solution {:.4}% students offered a scholarship\".format(100 * sum(scholarship.X > 0) / nstudents))"
   ]
  },
  {
   "cell_type": "markdown",
   "id": "7a1b41b2",
   "metadata": {},
   "source": [
    "Copyright © 2022 Gurobi Optimization, LLC"
   ]
  }
 ],
 "metadata": {
  "jupytext": {
   "formats": "ipynb///ipynb,myst///md:myst"
  },
  "kernelspec": {
   "display_name": "Python 3 (ipykernel)",
   "language": "python",
   "name": "python3"
  }
 },
 "nbformat": 4,
 "nbformat_minor": 5
}
