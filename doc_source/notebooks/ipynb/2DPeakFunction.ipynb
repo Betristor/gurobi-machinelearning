{
 "cells": [
  {
   "cell_type": "markdown",
   "id": "e7a908f9",
   "metadata": {},
   "source": [
    "# Surrogate functions\n",
    "\n",
    "Extra required packages:\n",
    "- matplotlib\n",
    "\n",
    "<cite data-cite=\"Henao_Maravelias_2011\"></cite>\n",
    "<cite data-cite=\"Lu_Pu_2017\"></cite>\n",
    "<cite data-cite=\"Henao_Maravelias_2011\"></cite>\n",
    "Optimization solvers often struggle to prove a global optimum of a model when\n",
    "it holds highly nonlinear functions. The reason is often that relaxations\n",
    "of the nonlinear functions are not good enough to make the solver prove an\n",
    "acceptable bound in a reasonable amount of time. Another issue might be that a\n",
    "given solver does not support nonlinear functions, but only accepts linear ones.\n",
    "\n",
    "One possible solution for this problem is to approximate the problematic nonlinear\n",
    "functions via neural networks and use MIP technology to solve the constructed\n",
    "approximation efficiently. A piecewise-linear approximation of the nonlinear\n",
    "function of interest might be considered but usually gets more expensive and hard to\n",
    "model with increasing function dimensions. In the following example, we show how to\n",
    "approximate a nonlinear function via sklearn's MLPRegressor and accordingly solve the\n",
    "neural network approximation of the nonlinear function with Gurobi.\n",
    "\n",
    "The purpose of this example is solely to present the idea of approximating\n",
    "any given function via neural networks and solving the approximation through MIP\n",
    "technology.\n",
    "\n",
    "The function we will approximate is the 2D peak function which can be found on\n",
    "many mathematical company logos and book covers. The function is given as\n",
    "\n",
    "$$\n",
    "f(x,y) = 3 \\cdot (1-x)^2 \\cdot \\exp(-x^2 - (y+1)^2) - 10\n",
    "         \\cdot (\\frac{x}{5} - x^3 - y^5) \\cdot \\exp(-x^2 - y^2) -\n",
    "         \\frac{1}{3} \\cdot \\exp(-(x+1)^2 - y^2).\n",
    "$$\n",
    "\n",
    "In this example, we will search for the global minimum of %f% over a small interval.\n",
    "\n",
    "$$\n",
    "\\begin{aligned}\n",
    "&\\min_{x,y} f(x,y)\\\\\n",
    "&\\text{s.t.}\\\\\n",
    "&x,y \\in [-1,1]\n",
    "\\end{aligned}\n",
    "$$\n",
    "\n",
    "To find the global minimum of $f$, we will approximate $f(x,y)$ through a neural\n",
    "network function $g(x,y)$ to obtain a MIP and solve\n",
    "\n",
    "$$\n",
    "\\begin{aligned}\n",
    "&\\min_{x,y} g(x,y) \\approx f(x,y)\\\\\n",
    "&\\text{s.t.}\\\\\n",
    "&x,y \\in [-1,1]\n",
    "\\end{aligned}\n",
    "$$\n",
    "\n",
    "with Gurobi."
   ]
  },
  {
   "cell_type": "code",
   "execution_count": null,
   "id": "9a0a3ded",
   "metadata": {},
   "outputs": [],
   "source": [
    "import gurobipy as gp\n",
    "import numpy as np\n",
    "from gurobipy import GRB\n",
    "from matplotlib import cm\n",
    "from matplotlib import pyplot as plt\n",
    "from sklearn import metrics\n",
    "from sklearn.neural_network import MLPRegressor\n",
    "from sklearn.preprocessing import PolynomialFeatures\n",
    "from sklearn.pipeline import make_pipeline\n",
    "from gurobi_ml.sklearn import PipelineConstr"
   ]
  },
  {
   "cell_type": "markdown",
   "id": "28374203",
   "metadata": {},
   "source": [
    "##### Define the nonlinear function of interest"
   ]
  },
  {
   "cell_type": "code",
   "execution_count": null,
   "id": "53d0e533",
   "metadata": {},
   "outputs": [],
   "source": [
    "def peak2d(xx, yy):\n",
    "    return (\n",
    "        3 * (1 - xx) ** 2.0 * np.exp(-(xx**2) - (yy + 1) ** 2)\n",
    "        - 10 * (xx / 5 - xx**3 - yy**5) * np.exp(-(xx**2) - yy**2)\n",
    "        - 1 / 3 * np.exp(-((xx + 1) ** 2) - yy**2)\n",
    "    )"
   ]
  },
  {
   "cell_type": "code",
   "execution_count": null,
   "id": "43c8fb68",
   "metadata": {},
   "outputs": [],
   "source": [
    "x = np.arange(-1, 1, 0.01)\n",
    "y = np.arange(-1, 1, 0.01)\n",
    "xx, yy = np.meshgrid(x, y)\n",
    "z = peak2d(xx, yy)"
   ]
  },
  {
   "cell_type": "code",
   "execution_count": null,
   "id": "1f105581",
   "metadata": {},
   "outputs": [],
   "source": [
    "fig, ax = plt.subplots(subplot_kw={\"projection\": \"3d\"})\n",
    "# Plot the surface.\n",
    "surf = ax.plot_surface(xx, yy, z, cmap=cm.coolwarm,\n",
    "                       linewidth=0.01, antialiased=False)\n",
    "# Add a color bar which maps values to colors.\n",
    "fig.colorbar(surf, shrink=0.5, aspect=5)\n",
    "\n",
    "plt.show()"
   ]
  },
  {
   "cell_type": "code",
   "execution_count": null,
   "id": "7dfe309c",
   "metadata": {},
   "outputs": [],
   "source": [
    "X = np.concatenate([xx.ravel().reshape(-1, 1), yy.ravel().reshape(-1, 1)], axis=1)\n",
    "y = z.ravel()"
   ]
  },
  {
   "cell_type": "markdown",
   "id": "782bd4a7",
   "metadata": {},
   "source": [
    "##### Approximate the function and define a test set"
   ]
  },
  {
   "cell_type": "code",
   "execution_count": null,
   "id": "6d13ea40",
   "metadata": {},
   "outputs": [],
   "source": [
    "# Run our regression\n",
    "layers = [30, 30, 30]\n",
    "regression = MLPRegressor(hidden_layer_sizes=layers, activation=\"relu\")\n",
    "pipe = make_pipeline(PolynomialFeatures(), regression)\n",
    "pipe.fit(X=X, y=y)"
   ]
  },
  {
   "cell_type": "code",
   "execution_count": null,
   "id": "a7b1e0f9",
   "metadata": {},
   "outputs": [],
   "source": [
    "X_test = np.random.random((100, 2)) * 2 - 1"
   ]
  },
  {
   "cell_type": "code",
   "execution_count": null,
   "id": "7eaa6a7b",
   "metadata": {},
   "outputs": [],
   "source": [
    "metrics.r2_score(peak2d(X_test[:, 0], X_test[:, 1]), pipe.predict(X_test))"
   ]
  },
  {
   "cell_type": "code",
   "execution_count": null,
   "id": "9c70882c",
   "metadata": {},
   "outputs": [],
   "source": [
    "metrics.max_error(peak2d(X_test[:, 0], X_test[:, 1]), pipe.predict(X_test))"
   ]
  },
  {
   "cell_type": "markdown",
   "id": "14e331eb",
   "metadata": {},
   "source": [
    "The maximum error is quite high but still acceptable for the purpose of this example."
   ]
  },
  {
   "cell_type": "code",
   "execution_count": null,
   "id": "d90bc958",
   "metadata": {},
   "outputs": [],
   "source": [
    "fig, ax = plt.subplots(subplot_kw={\"projection\": \"3d\"})\n",
    "# Plot the surface.\n",
    "surf = ax.plot_surface(\n",
    "    xx,\n",
    "    yy,\n",
    "    pipe.predict(X).reshape(xx.shape),\n",
    "    cmap=cm.coolwarm,\n",
    "    linewidth=0.01,\n",
    "    antialiased=False,\n",
    ")\n",
    "# Add a color bar which maps values to colors.\n",
    "fig.colorbar(surf, shrink=0.5, aspect=5)\n",
    "\n",
    "plt.show()"
   ]
  },
  {
   "cell_type": "markdown",
   "id": "6e94cc4c",
   "metadata": {},
   "source": [
    "Optically, the approximation looks very close to the original function.\n",
    "\n",
    "\n",
    "##### Construct the optimization model"
   ]
  },
  {
   "cell_type": "code",
   "execution_count": null,
   "id": "8c59e334",
   "metadata": {},
   "outputs": [],
   "source": [
    "optfeat = [0, 1]"
   ]
  },
  {
   "cell_type": "code",
   "execution_count": null,
   "id": "3529c0e2",
   "metadata": {},
   "outputs": [],
   "source": [
    "# Start with classical part of the model\n",
    "m = gp.Model()\n",
    "\n",
    "x = m.addMVar((len(optfeat)), lb=-1, ub=1, name=\"x\")\n",
    "y = m.addVar(lb=-GRB.INFINITY, name=\"y\")\n",
    "\n",
    "m.setObjective(y, gp.GRB.MINIMIZE)\n",
    "\n",
    "# create transforms to turn scikit-learn pipeline into Gurobi constraints\n",
    "PipelineConstr(m, pipe, x, y)"
   ]
  },
  {
   "cell_type": "markdown",
   "id": "5ed8f285",
   "metadata": {},
   "source": [
    "##### Finally optimize the model"
   ]
  },
  {
   "cell_type": "code",
   "execution_count": null,
   "id": "04c34127",
   "metadata": {},
   "outputs": [],
   "source": [
    "m.Params.TimeLimit = 20\n",
    "m.Params.MIPGap = 0.1\n",
    "m.Params.NonConvex = 2"
   ]
  },
  {
   "cell_type": "code",
   "execution_count": null,
   "id": "b153481c",
   "metadata": {},
   "outputs": [],
   "source": [
    "m.optimize()"
   ]
  },
  {
   "cell_type": "code",
   "execution_count": null,
   "id": "516e2a08",
   "metadata": {},
   "outputs": [],
   "source": [
    "m.NumVars"
   ]
  },
  {
   "cell_type": "markdown",
   "id": "15b05b8a",
   "metadata": {},
   "source": [
    "##### Look at the solution and objective value"
   ]
  },
  {
   "cell_type": "code",
   "execution_count": null,
   "id": "19aaed2d",
   "metadata": {},
   "outputs": [],
   "source": [
    "print(x.X) # solution point of the approximated problem\n",
    "print(m.ObjVal) # objective value of the approximated problem\n",
    "print(peak2d(x[0].X, x[1].X)) # function value at the solution point of the approximated problem\n",
    "print(abs(peak2d(x[0].X, x[1].X) - m.ObjVal)) # error of the approximation"
   ]
  },
  {
   "cell_type": "markdown",
   "id": "90b9d8dc",
   "metadata": {},
   "source": [
    "The difference between the function and the approximation at the computed solution point is noticable but acceptable given the big maximum error of the neural network approximation.\n",
    "\n",
    "Copyright © 2020 Gurobi Optimization, LLC"
   ]
  }
 ],
 "metadata": {
  "jupytext": {
   "formats": "ipynb///ipynb,myst///md:myst"
  },
  "kernelspec": {
   "display_name": "gurobi-ml",
   "language": "python",
   "name": "Python3"
  }
 },
 "nbformat": 4,
 "nbformat_minor": 5
}
