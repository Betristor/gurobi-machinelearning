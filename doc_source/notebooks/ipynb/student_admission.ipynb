{
 "cells": [
  {
   "cell_type": "markdown",
   "id": "7eba6234",
   "metadata": {},
   "source": [
    "# Student Enrollment\n",
    "\n",
    "In this example, we show how to reproduce the model of student enrollment from\n",
    "<cite data-cite=\"JANOS\">Bergman et.al. (2020)</cite> with Gurobi Machine Learning.\n",
    "\n",
    "This model was developed in the context of the development of\n",
    "[Janos](https://github.com/INFORMSJoC/2020.1023), a toolkit similar to\n",
    "Gurobi Machine Learning to integrate ML models and Mathematical optimization.\n",
    "\n",
    "In this example, we illustrate in particular how to use the logistic regression and changing parameters\n",
    "to tune the piece wise linear approximation of the logistic function.\n",
    "We also show how to deal with fixed features in the optimization model using pandas data frames.\n",
    "\n",
    "## Introduction\n",
    "\n",
    "In this model, data of students admissions in a college is used to predict the probability\n",
    "that a student enrolls to the college.\n",
    "\n",
    "The data has 3 features:\n",
    "the SAT and GPA scores of each student,\n",
    "and the scholarship (or merit) that was offered to each student.\n",
    "Finally, it is known if each student decided to join or not the college.\n",
    "\n",
    "Based on this data a logistic regression is trained to predict the probability that\n",
    "a student joins the college.\n",
    "\n",
    "Using this regression model,\n",
    "<cite data-cite=\"JANOS\">Bergman et.al. (2020)</cite>\n",
    "proposes the following student enrollment\n",
    "problem. The Admission Office has data for SAT and GPA scores of the admitted students for\n",
    "the incoming class, and they would want to offer scholarships to students with the goal of\n",
    "maximizing the expected number of students that enroll in the college. There is a total\n",
    "of $n$ student that are admitted. The maximal\n",
    "budget for the sum of all scholarships offered is $0.2 n \\, \\text{K\\$}$ and each student can be offered a\n",
    "scholarship of at most $2.5 \\, K\\$$.\n",
    "\n",
    "This problem can be expressed as a mathematical optimization problem as follows.\n",
    "Two vectors of decision variables $x$ and $y$ of dimension $n$ are used to model\n",
    "respectively the scholarship offered to each student in $K\\$$ and the probability\n",
    "that they join.\n",
    "Denoting by $g$ the prediction function for the probability of the logistic regression we then have for each student $i$:\n",
    "\n",
    "$$\n",
    "y_i = g(x_i, SAT_i, GPA_i),\n",
    "$$\n",
    "\n",
    "with $SAT_i$ and $GPA_i$ the (known) SAT and GPA score of each student.\n",
    "\n",
    "The objective is to maximize the sum of the $y$ variables and the budget constraint imposes\n",
    "that the sum of the variables $x$ is less or equal to $0.2n$. Also, each variable $x_i$ is between 0 and 2.5.\n",
    "\n",
    "The full model then reads:\n",
    "\n",
    "$$\n",
    "\\begin{aligned}\n",
    "&\\max \\sum_{i=1}^n y_i \\\\\n",
    "&\\text{subject to:}\\\\\n",
    "&\\sum_{i=1}^n x_i \\le 0.2*n,\\\\\n",
    "&y_i = g(x_i, SAT_i, GPA_i) & & i = 1, \\ldots, n,\\\\\n",
    "& 0 \\le x \\le 2.5.\n",
    "\\end{aligned}\n",
    "$$\n",
    "\n",
    "Note that in this example differently to\n",
    "<cite data-cite=\"JANOS\">Bergman et.al. (2020)</cite>\n",
    "in that we scale the features for the regression.\n",
    "Also, to fit in Gurobi's limited size license we only consider the problem where $n=250$.\n",
    "\n",
    "We note also that the model may differ from the objectives of Admission Offices and\n",
    "don't encourage its use in real life. The example is for illustration purposes only.\n",
    "\n",
    "## Importing packages and retrieving the data\n",
    "\n",
    "We import the necessary packages. Besides the usual (`numpy`, `gurobipy`, `pandas`), for this we will use\n",
    "Scikit-learn's Pipeline, StandardScaler and LogisticRegression."
   ]
  },
  {
   "cell_type": "code",
   "execution_count": null,
   "id": "c9961b42",
   "metadata": {},
   "outputs": [],
   "source": [
    "import numpy as np\n",
    "import pandas as pd\n",
    "from matplotlib import pyplot as plt\n",
    "from sklearn.linear_model import LogisticRegression\n",
    "from sklearn.pipeline import make_pipeline\n",
    "from sklearn.preprocessing import StandardScaler\n",
    "\n",
    "import gurobipy as gp\n",
    "from gurobi_ml import add_predictor_constr"
   ]
  },
  {
   "cell_type": "markdown",
   "id": "81a96d64",
   "metadata": {},
   "source": [
    "We now retrieve the historical data used to build the regression from Janos repository.\n",
    "\n",
    "The features we use for the regression are `\"merit\"` (scholarship), `\"SAT\"` and `\"GPA\"` and the target is `\"enroll\"`.\n",
    "We store those values."
   ]
  },
  {
   "cell_type": "code",
   "execution_count": null,
   "id": "24154c54",
   "metadata": {},
   "outputs": [],
   "source": [
    "# Base URL for retrieving data\n",
    "janos_data_url = 'https://raw.githubusercontent.com/INFORMSJoC/2020.1023/master/data/'\n",
    "historical_data = pd.read_csv(janos_data_url + 'college_student_enroll-s1-1.csv', index_col=0)\n",
    "\n",
    "# classify our features between the ones that are fixed and the ones that will be\n",
    "# part of the optimization problem\n",
    "features = [\"merit\", \"SAT\", \"GPA\"]\n",
    "target = \"enroll\""
   ]
  },
  {
   "cell_type": "markdown",
   "id": "9a87740e",
   "metadata": {},
   "source": [
    "## Fit the logistic regression\n",
    "\n",
    "For the regression, we use a pipeline with a standard scaler and a logistic regression.\n",
    "We build it using the `make_pipeline` from `scikit-learn`."
   ]
  },
  {
   "cell_type": "code",
   "execution_count": null,
   "id": "bd8a43ce",
   "metadata": {},
   "outputs": [],
   "source": [
    "# Run our regression\n",
    "regression = LogisticRegression(random_state=1)\n",
    "pipe = make_pipeline(StandardScaler(), LogisticRegression(random_state=1))\n",
    "pipe.fit(X=historical_data.loc[:, features], y=historical_data.loc[:, target])"
   ]
  },
  {
   "cell_type": "markdown",
   "id": "4236c46e",
   "metadata": {},
   "source": [
    "### Optimization Model\n",
    "\n",
    "We now turn to building the mathematical optimization model for Gurobi.\n",
    "\n",
    "First, retrieve the data for the new students. We won't use all the data there, we randomly pick 250 students from it."
   ]
  },
  {
   "cell_type": "code",
   "execution_count": null,
   "id": "47f1ab07",
   "metadata": {},
   "outputs": [],
   "source": [
    "# Retrieve new data used to build the optimization problem\n",
    "studentsdata = pd.read_csv(janos_data_url + 'college_applications6000.csv', index_col=0)\n",
    "\n",
    "nstudents = 250\n",
    "\n",
    "# Select randomly nstudents in the data\n",
    "studentsdata = studentsdata.sample(nstudents)"
   ]
  },
  {
   "cell_type": "markdown",
   "id": "5ec5dd04",
   "metadata": {},
   "source": [
    "A non-trivial part of the model is the decision variables that we need for using Gurobi Machine Learning.\n",
    "\n",
    "In the mathematical formulation above, we only had two vectors of variables `x` and `y`.\n",
    "Then each student had associated its score $SAT_i$ and $GPA_i$ that were fixed parameters\n",
    "in the optimization.\n",
    "For the Gurobi model, we need to create a matrix of variables that also includes the values\n",
    "of $SAT$ and $GPA$ of each student. We will fix those variables by giving them the same\n",
    "lower bound and upper bound.\n",
    "\n",
    "Therefore, we need to build 2 matrices of variables, one for each set of bounds, and we\n",
    "need to make sure that they are in the same order as the regression model would expect.\n",
    "\n",
    "To do so, we use `pandas` data frames to construct those lower and upper bounds.\n",
    "\n",
    "To construct the lower bounds, we first make a copy of `studentsdata` and then add the\n",
    "`\"merit\"` column with a value of $0$. We then do the same for the upper bound, except that\n",
    "the value for `\"merit\"`is $2.5$."
   ]
  },
  {
   "cell_type": "code",
   "execution_count": null,
   "id": "ebcf049a",
   "metadata": {},
   "outputs": [],
   "source": [
    "# Construct lower bounds data frame\n",
    "feat_lb = studentsdata.copy()\n",
    "feat_lb.loc[:, \"merit\"] = 0\n",
    "\n",
    "# Construct upper bounds data frame\n",
    "feat_ub = studentsdata.copy()\n",
    "feat_ub.loc[:, \"merit\"] = 2.5\n",
    "\n",
    "# Make sure the columns are ordered in the same way as for the regression model.\n",
    "feat_lb = feat_lb[features]\n",
    "feat_ub = feat_ub[features]"
   ]
  },
  {
   "cell_type": "markdown",
   "id": "861392fc",
   "metadata": {},
   "source": [
    "We can now create the variables for our model: `feature_vars` is initialized using the data frames we just created\n",
    "(be careful that they have to be converted to `numpy` arrays).\n",
    "\n",
    "For the rest of the model, we want to recover from the `feature_vars` matrix, the column corresponding to merit.\n",
    "With `pandas`, we can use the `get_indexer` function to recover the index of this column in\n",
    "our `MVar` matrix."
   ]
  },
  {
   "cell_type": "code",
   "execution_count": null,
   "id": "134985f7",
   "metadata": {},
   "outputs": [],
   "source": [
    "# Start with classical part of the model\n",
    "m = gp.Model()\n",
    "\n",
    "feature_vars = m.addMVar(feat_lb.shape, lb=feat_lb.to_numpy(), ub=feat_ub.to_numpy(), name=\"feats\")\n",
    "y = m.addMVar(nstudents, name=\"y\")\n",
    "\n",
    "x = feature_vars[:, feat_lb.columns.get_indexer(['merit'])][:, 0]"
   ]
  },
  {
   "cell_type": "markdown",
   "id": "83a83662",
   "metadata": {},
   "source": [
    "We add the objective and the budget constraint:"
   ]
  },
  {
   "cell_type": "code",
   "execution_count": null,
   "id": "1a21833e",
   "metadata": {},
   "outputs": [],
   "source": [
    "m.setObjective(y.sum(), gp.GRB.MAXIMIZE)\n",
    "\n",
    "m.addConstr(x.sum() <= 0.2 * nstudents)\n",
    "m.update()"
   ]
  },
  {
   "cell_type": "markdown",
   "id": "aba0719c",
   "metadata": {},
   "source": [
    "Finally, we insert the constraints from the regression. Note that due to the shape of the `feature_vars` matrix and `y`, this will insert one regression constraint for each student.\n",
    "\n",
    "With the `print_stats` function we display what was added to the model."
   ]
  },
  {
   "cell_type": "code",
   "execution_count": null,
   "id": "5868b7ef",
   "metadata": {},
   "outputs": [],
   "source": [
    "pred_constr = add_predictor_constr(m, pipe, feature_vars, y)\n",
    "\n",
    "pred_constr.print_stats()"
   ]
  },
  {
   "cell_type": "markdown",
   "id": "1eb51817",
   "metadata": {},
   "source": [
    "We can now optimize the problem."
   ]
  },
  {
   "cell_type": "code",
   "execution_count": null,
   "id": "efffd1f0",
   "metadata": {},
   "outputs": [],
   "source": [
    "m.optimize()"
   ]
  },
  {
   "cell_type": "markdown",
   "id": "1f3d5c78",
   "metadata": {},
   "source": [
    "Remember that for the logistic regression, Gurobi does a piece wise linear approximation of the logistic function. We can therefore get some significant errors when comparing the results of the Gurobi model with what is predicted by the regression.\n",
    "\n",
    "We print the error. Here we need to use `get_error_proba`."
   ]
  },
  {
   "cell_type": "code",
   "execution_count": null,
   "id": "af9a2820",
   "metadata": {},
   "outputs": [],
   "source": [
    "print(\"Error in approximating the regression {:.6}\".format(np.max(np.abs(pred_constr.get_error_proba()))))"
   ]
  },
  {
   "cell_type": "markdown",
   "id": "de8fa4d3",
   "metadata": {},
   "source": [
    "The error we get might be considered too large, but we can use Gurobi parameters to\n",
    "tune the piece wise linear approximation made by Gurobi (at the expense of a harder models).\n",
    "\n",
    "The specific parameters are explained in the documentation of\n",
    "[Functions Constraints](https://www.gurobi.com/documentation/9.1/refman/constraints.html#subsubsection:GenConstrFunction)\n",
    "in Gurobi's manual.\n",
    "\n",
    "We can pass those parameters, to the `add_predictor_constr` function in the form of a dictionary with the keyword\n",
    "parameter `gc_attributes`.\n",
    "\n",
    "Now we want a more precise solution, so we remove the current constraint, add a new one that does a tighter approximation and resolve the model."
   ]
  },
  {
   "cell_type": "code",
   "execution_count": null,
   "id": "a8706d13",
   "metadata": {},
   "outputs": [],
   "source": [
    "pred_constr.remove()\n",
    "\n",
    "pwl_attributes={\"FuncPieces\": -1, \"FuncPieceLength\": 0.01, \"FuncPieceError\": 1e-4, \"FuncPieceRatio\": -1.0}\n",
    "pred_constr = add_predictor_constr(m, pipe, feature_vars, y, pwl_attributes=pwl_attributes)\n",
    "\n",
    "m.optimize()"
   ]
  },
  {
   "cell_type": "markdown",
   "id": "4b1c7700",
   "metadata": {},
   "source": [
    "We can see that the error has been reduced."
   ]
  },
  {
   "cell_type": "code",
   "execution_count": null,
   "id": "606d2ba8",
   "metadata": {},
   "outputs": [],
   "source": [
    "print(\"Error in approximating the regression {:.6}\".format(np.max(np.abs(pred_constr.get_error_proba()))))"
   ]
  },
  {
   "cell_type": "markdown",
   "id": "766c54d0",
   "metadata": {},
   "source": [
    "Copyright © 2022 Gurobi Optimization, LLC"
   ]
  },
  {
   "cell_type": "code",
   "execution_count": null,
   "id": "541f893d",
   "metadata": {},
   "outputs": [],
   "source": []
  }
 ],
 "metadata": {
  "jupytext": {
   "formats": "ipynb///ipynb,myst///md:myst"
  },
  "kernelspec": {
   "display_name": "Python 3 (ipykernel)",
   "language": "python",
   "name": "python3"
  },
  "language_info": {
   "codemirror_mode": {
    "name": "ipython",
    "version": 3
   },
   "file_extension": ".py",
   "mimetype": "text/x-python",
   "name": "python",
   "nbconvert_exporter": "python",
   "pygments_lexer": "ipython3",
   "version": "3.9.12"
  },
  "license": {
   "full_text": "# Copyright © 2022 Gurobi Optimization, LLC\n#\n# Licensed under the Apache License, Version 2.0 (the \"License\");\n# you may not use this file except in compliance with the License.\n# You may obtain a copy of the License at\n#\n#     http://www.apache.org/licenses/LICENSE-2.0\n#\n# Unless required by applicable law or agreed to in writing, software\n# distributed under the License is distributed on an \"AS IS\" BASIS,\n# WITHOUT WARRANTIES OR CONDITIONS OF ANY KIND, either express or implied.\n# See the License for the specific language governing permissions and\n# limitations under the License.\n# =============================================================================="
  }
 },
 "nbformat": 4,
 "nbformat_minor": 5
}
