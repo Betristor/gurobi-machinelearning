{
 "cells": [
  {
   "cell_type": "markdown",
   "metadata": {},
   "source": [
    "# Adversarial Machine Learning\n",
    "\n",
    "In this example, we show how to use Gurobi Machine Learning to construct an adversarial example for a trained neural network.\n",
    "\n",
    "We use the MNIST handwritten digit database (http://yann.lecun.com/exdb/mnist/) for this example.\n",
    "\n",
    "\n",
    "## Introduction\n",
    "\n",
    "For this problem, we are given a trained neural network and one well classified example $\\bar x$.\n",
    "We want to find another example $x$ _close to_ $\\bar x$ that will receive another label.\n",
    "\n",
    "Here to define the neighborhood we will use the $l1-$norm and $\\delta$ is a fixed parameter defining the size of the neighborhood. We want\n",
    "\n",
    "$$\n",
    "|| x - \\bar x ||_1 \\le \\delta.   \n",
    "$$\n",
    "\n",
    "The output of the neural network in this particular case is a vector of length 10 (each entry corresponding to a digit). We denote it by $y$. For the training example, assume that coordinate $l$ of the output vector was the one with the largest value giving the correct label. We pick a coordinate corresponding to another label, denoted $w$ and we want the difference between $y_w - y_l$ to be as large as possible.\n",
    "\n",
    "\n",
    "If we can find a solution where the difference is positive, then $x$ is a counter-example that will receive a different label. If instead we can show that the difference is non-positive, no such counter-example exists in this neighborhood.\n",
    "\n",
    "If we denote by $g$ the prediction function of the neural network. Our full optimization model reads:\n",
    "$$\n",
    "\\begin{aligned}\n",
    "&\\max y_w - y_l \\\\\n",
    "&\\text{subject to:}\\\\\n",
    "&|| x - \\bar x ||_1 \\le \\delta,\\\\\n",
    "& y = g(x).\n",
    "\\end{aligned}\n",
    "$$\n",
    "\n",
    "**TODO** Add some references"
   ]
  },
  {
   "cell_type": "markdown",
   "metadata": {},
   "source": [
    "## Imports and loading data\n",
    "\n",
    "First, we import the required packages for this example.\n",
    "\n",
    "In addition to the usual packages, we will neeed `matplotlib` to plot the digits, `joblib` to load a pre-trained network and `pandas` that is the format in which training examples are stored.\n",
    "\n",
    "Note that from the `gurobi_ml` package we need to use directly the `add_mlp_regressor_constr` function for reasons that will be clarified later."
   ]
  },
  {
   "cell_type": "code",
   "execution_count": null,
   "metadata": {},
   "outputs": [],
   "source": [
    "import gurobipy as gp\n",
    "import numpy as np\n",
    "import pandas as pd\n",
    "from joblib import load\n",
    "from matplotlib import pyplot as plt\n",
    "\n",
    "from gurobi_ml.sklearn import add_mlp_regressor_constr"
   ]
  },
  {
   "cell_type": "markdown",
   "metadata": {},
   "source": [
    "Now we can load the data.\n",
    "\n",
    "We load a neural network that was pre-trained with scikit-learn MLPRegressor. The network is quite small (2 hidden layers of 50 neurons), finding counter example shouldn't be too difficult.\n",
    "\n",
    "We also load the first 100 training examples of the MNIST dataset that we saved to avoid having to reload the full data set."
   ]
  },
  {
   "cell_type": "code",
   "execution_count": null,
   "metadata": {},
   "outputs": [],
   "source": [
    "# Load the trained network and the examples\n",
    "nn = load(\"../../../tests/predictors/MNIST_50_50.joblib\")\n",
    "X = load(\"../../../tests/predictors/MNIST_first100.joblib\")"
   ]
  },
  {
   "cell_type": "markdown",
   "metadata": {},
   "source": [
    "## Choose an example and set labels\n",
    "\n",
    "Now we choose an example. Here we chose arbitrarily example 26.\n",
    "We plot, the example and verify it is well predicted by calling the `predict` function."
   ]
  },
  {
   "cell_type": "code",
   "execution_count": null,
   "metadata": {},
   "outputs": [],
   "source": [
    "# Choose an example\n",
    "exampleno = 26\n",
    "example = X.iloc[exampleno : exampleno + 1, :]\n",
    "\n",
    "pixels = example.to_numpy().reshape((28, 28))\n",
    "plt.imshow(pixels, cmap=\"gray\")\n",
    "plt.show()\n",
    "\n",
    "print(f\"Predicted label {nn.predict(example)}\")"
   ]
  },
  {
   "cell_type": "markdown",
   "metadata": {},
   "source": [
    "To setup the objective function of the optimization model, we need to find a wrong lable.\n",
    "\n",
    "We use `predict_proba` to get the weight for each label given by the neural network.\n",
    "We then use `numpy`'s argsort function to get the labels sorted by their weight.\n",
    "The right label is then the last element in the list, and we pick the next to last element as the wrong label."
   ]
  },
  {
   "cell_type": "code",
   "execution_count": null,
   "metadata": {},
   "outputs": [],
   "source": [
    "ex_prob = nn.predict_proba(example)\n",
    "sorted_labels = np.argsort(ex_prob)[0]\n",
    "right_label = sorted_labels[-1]\n",
    "wrong_label = sorted_labels[-2]"
   ]
  },
  {
   "cell_type": "markdown",
   "metadata": {},
   "source": [
    "## Building the optimization model\n",
    "\n",
    "Now that all the data is gathered we can proceed to building the optimization model.\n",
    "\n",
    "We need to create a matrix variable `x` corresponding to the new input of the neural network we want to compute and a `y` variables for the output of the neural network. Those variables should have respectively the shape of the example we picked and the shape of the return value of `predict_proba`.\n",
    "\n",
    "We also need additional variables to model the $l1$-norm constraint. Namely for each pixel in the image, we need to model the absolute difference between $x$ and $\\bar x$. We will detail the model below. For now we create the necessary variables that are another matix of variable of same shape as `x`.\n",
    "\n",
    "We also set the objective which is to maximize the difference between the _wrong_ label and the _right_ label.\n"
   ]
  },
  {
   "cell_type": "code",
   "execution_count": null,
   "metadata": {
    "tags": [
     "hide-output"
    ]
   },
   "outputs": [],
   "source": [
    "m = gp.Model()\n",
    "delta = 5\n",
    "\n",
    "x = m.addMVar(example.shape, lb=0.0, ub=1.0, name=\"x\")\n",
    "y = m.addMVar(ex_prob.shape, lb=-gp.GRB.INFINITY, name=\"y\")\n",
    "\n",
    "abs_diff = m.addMVar(example.shape, lb=0, ub=1, name=\"abs_diff\")\n",
    "\n",
    "m.setObjective(y[0, wrong_label] - y[0, right_label], gp.GRB.MAXIMIZE)"
   ]
  },
  {
   "cell_type": "markdown",
   "metadata": {},
   "source": [
    "The $l1-$norm constraint is formulated with:\n",
    "\n",
    "$$\n",
    "\\eta \\ge x - \\bar x \\\\\n",
    "\\eta \\ge \\bar x - x \\\\\n",
    "\\sum \\eta \\le \\delta\n",
    "$$\n",
    "\n",
    "With $\\eta$ denoting the `absdiff` variables.\n",
    "\n",
    "Those constraints are naturally expressed with Gurobi Matrix API. Note that we need to convert the example which is a `pandas.DataFrame` to `numpy` for the matrix API."
   ]
  },
  {
   "cell_type": "code",
   "execution_count": null,
   "metadata": {},
   "outputs": [],
   "source": [
    "# Bound on the distance to example in norm-1\n",
    "m.addConstr(abs_diff >= x - example.to_numpy())\n",
    "m.addConstr(abs_diff >= -x + example.to_numpy())\n",
    "m.addConstr(abs_diff.sum() <= delta)\n",
    "\n",
    "# Update the model\n",
    "m.update()"
   ]
  },
  {
   "cell_type": "markdown",
   "metadata": {},
   "source": [
    "Finally, we insert the neural network in the `gurobipy` model to link `x` and `y`.\n",
    "\n",
    "Note that this case is not as straigthforward as others. The reason is that the neural network is trained for classification with a `\"softmax\"` activation in the last layer. But in this model we are using the network without activation in the last layer.\n",
    "\n",
    "For this reason, we change manually the last layer activation before adding the network to the gurobi model.\n",
    "\n",
    "Also, we use the function `add_mlp_regressor_constr` directly. The network being actually for classification (i.e. of type `MLPClassifier`, the `add_predictor_constr` function would not handle it automatically.\n",
    "\n",
    "Note that in the output, you should see a warning about adding constraints with very small coefficients that are ignored. Neural-networks often contains very small coefficients in their expression. Any coefficient with an absolute value smaller than $10^-{13}$ is ignored by Gurobi. This may result in slightly different predicted values but should be negligible."
   ]
  },
  {
   "cell_type": "code",
   "execution_count": null,
   "metadata": {},
   "outputs": [],
   "source": [
    "# Change last layer activation to identity\n",
    "nn.out_activation_ = \"identity\"\n",
    "# Code to add the neural network to the constraints\n",
    "ml2grb = add_mlp_regressor_constr(m, nn, x, y)\n",
    "\n",
    "# Restore activation\n",
    "nn.out_activation_ = \"softmax\""
   ]
  },
  {
   "cell_type": "markdown",
   "metadata": {},
   "source": [
    "The model should be complete. We print the statistics of what was added to insert the neural network into the optimization model."
   ]
  },
  {
   "cell_type": "code",
   "execution_count": null,
   "metadata": {},
   "outputs": [],
   "source": [
    "ml2grb.print_stats()"
   ]
  },
  {
   "cell_type": "markdown",
   "metadata": {},
   "source": [
    "## Solving the model\n",
    "\n",
    "We now turn to solving the optimization model.\n",
    "Solving the adversarial problem, as we formulated it above, doesn't actually require computing a provably optimal solution. Instead we need to either:\n",
    "\n",
    " - find a feasible solution with a positive objective cost (i.e. a counter-example), or\n",
    " - or prove that there is no solution of positive cost (i.e. no counter-example in the neighborhood).\n",
    " \n",
    " We can use Gurobi parameters to limit the optimization to answer those questions: setting BestObjStop (https://www.gurobi.com/documentation/current/refman/bestobjstop.html#parameter:BestObjStop) to 0.0 will stop we optimization if a counter-example is found, setting BestBdStop (https://www.gurobi.com/documentation/current/refman/bestobjstop.html#parameter:BestObjStop) to 0.0 will stop the optimization if we have shown there is no counter-example.\n",
    " \n",
    "We set the two paramters and optimize."
   ]
  },
  {
   "cell_type": "code",
   "execution_count": null,
   "metadata": {
    "tags": [
     "remove-input"
    ]
   },
   "outputs": [],
   "source": [
    "# This is some trickery for output\n",
    "m.params.LogToConsole = 0\n",
    "!rm -f gurobi.log\n",
    "m.params.LogFile = 'gurobi.log'"
   ]
  },
  {
   "cell_type": "code",
   "execution_count": null,
   "metadata": {
    "tags": [
     "remove-output"
    ]
   },
   "outputs": [],
   "source": [
    "m.Params.BestBdStop = 0.0\n",
    "m.Params.BestObjStop = 0.0\n",
    "m.optimize()"
   ]
  },
  {
   "cell_type": "code",
   "execution_count": null,
   "metadata": {
    "tags": [
     "remove-input"
    ]
   },
   "outputs": [],
   "source": [
    "!cat gurobi.log"
   ]
  },
  {
   "cell_type": "markdown",
   "metadata": {},
   "source": [
    "## Results\n",
    "\n",
    "Normally for the example and $\\delta$ we chose a counter example is found. We finish this notebook by plotting the example and printing how it is classified by the neural network."
   ]
  },
  {
   "cell_type": "code",
   "execution_count": null,
   "metadata": {},
   "outputs": [],
   "source": [
    "pixels = x.X.reshape((28, 28))\n",
    "plt.imshow(pixels, cmap=\"gray\")\n",
    "plt.show()\n",
    "\n",
    "example_mod = pd.DataFrame(data=x.X, columns=example.columns, index=example.index)\n",
    "print(f\"Solution is classified as {nn.predict(example_mod)}\")"
   ]
  },
  {
   "cell_type": "markdown",
   "metadata": {
    "tags": [
     "hide-input"
    ]
   },
   "source": [
    "copyright © 2022 Gurobi Optimization, LLC"
   ]
  },
  {
   "cell_type": "code",
   "execution_count": null,
   "metadata": {},
   "outputs": [],
   "source": []
  }
 ],
 "metadata": {
  "celltoolbar": "Tags",
  "kernelspec": {
   "display_name": "Python 3 (ipykernel)",
   "language": "python",
   "name": "python3"
  },
  "language_info": {
   "codemirror_mode": {
    "name": "ipython",
    "version": 3
   },
   "file_extension": ".py",
   "mimetype": "text/x-python",
   "name": "python",
   "nbconvert_exporter": "python",
   "pygments_lexer": "ipython3",
   "version": "3.9.12"
  },
  "vscode": {
   "interpreter": {
    "hash": "949777d72b0d2535278d3dc13498b2535136f6dfe0678499012e853ee9abcab1"
   }
  }
 },
 "nbformat": 4,
 "nbformat_minor": 4
}
