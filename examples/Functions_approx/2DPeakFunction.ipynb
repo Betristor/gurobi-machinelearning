{
 "cells": [
  {
   "cell_type": "markdown",
   "id": "ec8d3816",
   "metadata": {},
   "source": [
    "# Approximating nonlinear functions via neural networks\n",
    "\n",
    "Extra required packages:\n",
    "- matplotlib\n",
    "\n",
    "Optimization solvers often struggle to prove a global optimum of a model when it holds highly nonlinear functions. The reason is often that relaxations\n",
    "of the nonlinear functions are not good enough to make the solver prove an acceptable bound in a reasonable amount of time. Another issue might be that a given solver\n",
    "does not support nonlinear functions, but only accepts linear ones. \n",
    "\n",
    "One possible solution for this problem is to approximate the problematic nonlinear functions via neural networks and use MIP technology to solve the constructed approximation efficiently. A piecewise-linear approximation of the nonlinear function of interest might be considered but usually gets more expensive and hard to model with increasing function dimensions. In the following example, we show how to approximate a nonlinear function via sklearn's MLPRegressor and accordingly solve the neural network approximation of the nonlinear function with Gurobi. The purpose of this example is solely to present the idea of approximating any given function via neural networks and solving the approximation through MIP technology.\n",
    "\n",
    "The function we will approximate is the 2D peak function which can be found on many mathematical company logos and book covers. The function is given as\n",
    "\n",
    "$$f(x,y) = 3 \\cdot (1-x)^2 \\cdot \\exp(-x^2 - (y+1)^2) - 10 \\cdot (\\frac{x}{5} - x^3 - y^5) \\cdot \\exp(-x^2 - y^2) - \\frac{1}{3} \\cdot \\exp(-(x+1)^2 - y^2).$$\n",
    "\n",
    "In this example, we will search for the global minimum of %f% over a small interval.\n",
    "\n",
    "$$\\begin{align*}\n",
    "&\\min_{x,y} f(x,y)\\\\\n",
    "&\\text{s.t.}\\\\\n",
    "&x,y \\in [-1,1]\n",
    "\\end{align*}$$\n",
    "\n",
    "To find the global minimum of $f$, we will approximate $f(x,y)$ through a neural network function $g(x,y)$ to obtain a MIP and solve\n",
    "\n",
    "$$\\begin{align*}\n",
    "&\\min_{x,y} g(x,y) \\approx f(x,y)\\\\\n",
    "&\\text{s.t.}\\\\\n",
    "&x,y \\in [-1,1]\n",
    "\\end{align*}$$\n",
    "\n",
    "with Gurobi."
   ]
  },
  {
   "cell_type": "code",
   "execution_count": null,
   "id": "9ce468a1-27be-4bdd-bc78-2204f74bb9ac",
   "metadata": {},
   "outputs": [],
   "source": [
    "import gurobipy as gp\n",
    "import numpy as np\n",
    "from gurobipy import GRB\n",
    "from matplotlib import cm\n",
    "from matplotlib import pyplot as plt\n",
    "from sklearn import metrics\n",
    "from sklearn.neural_network import MLPRegressor\n",
    "from sklearn.pipeline import make_pipeline\n",
    "from gurobi_ml.sklearn import PipelineConstr"
   ]
  },
  {
   "cell_type": "markdown",
   "id": "65087cef",
   "metadata": {},
   "source": [
    "##### Define the nonlinear function of interest"
   ]
  },
  {
   "cell_type": "code",
   "execution_count": null,
   "id": "201901a3",
   "metadata": {},
   "outputs": [],
   "source": [
    "def peak2d(xx, yy):\n",
    "    return (\n",
    "        3 * (1 - xx) ** 2.0 * np.exp(-(xx**2) - (yy + 1) ** 2)\n",
    "        - 10 * (xx / 5 - xx**3 - yy**5) * np.exp(-(xx**2) - yy**2)\n",
    "        - 1 / 3 * np.exp(-((xx + 1) ** 2) - yy**2)\n",
    "    )"
   ]
  },
  {
   "cell_type": "code",
   "execution_count": null,
   "id": "75ae3632",
   "metadata": {},
   "outputs": [],
   "source": [
    "x = np.arange(-1, 1, 0.01)\n",
    "y = np.arange(-1, 1, 0.01)\n",
    "xx, yy = np.meshgrid(x, y)\n",
    "z = peak2d(xx, yy)"
   ]
  },
  {
   "cell_type": "code",
   "execution_count": null,
   "id": "0d93bcb5",
   "metadata": {},
   "outputs": [],
   "source": [
    "fig, ax = plt.subplots(subplot_kw={\"projection\": \"3d\"})\n",
    "# Plot the surface.\n",
    "surf = ax.plot_surface(xx, yy, z, cmap=cm.coolwarm, linewidth=0.01, antialiased=False)\n",
    "# Add a color bar which maps values to colors.\n",
    "fig.colorbar(surf, shrink=0.5, aspect=5)\n",
    "\n",
    "plt.show()"
   ]
  },
  {
   "cell_type": "code",
   "execution_count": null,
   "id": "3825632f",
   "metadata": {},
   "outputs": [],
   "source": [
    "X = np.concatenate([xx.ravel().reshape(-1, 1), yy.ravel().reshape(-1, 1)], axis=1)\n",
    "y = z.ravel()"
   ]
  },
  {
   "cell_type": "markdown",
   "id": "51923791",
   "metadata": {},
   "source": [
    "##### Approximate the function and define a test set"
   ]
  },
  {
   "cell_type": "code",
   "execution_count": null,
   "id": "37b554b9",
   "metadata": {},
   "outputs": [],
   "source": [
    "# Run our regression\n",
    "layers = [64, 64]\n",
    "regression = MLPRegressor(hidden_layer_sizes=layers, activation=\"relu\")\n",
    "pipe = make_pipeline(regression)\n",
    "pipe.fit(X=X, y=y)"
   ]
  },
  {
   "cell_type": "code",
   "execution_count": null,
   "id": "2a8dfb0b",
   "metadata": {},
   "outputs": [],
   "source": [
    "X_test = np.random.random((100, 2)) * 2 - 1"
   ]
  },
  {
   "cell_type": "code",
   "execution_count": null,
   "id": "2dd2d500",
   "metadata": {},
   "outputs": [],
   "source": [
    "metrics.r2_score(peak2d(X_test[:, 0], X_test[:, 1]), pipe.predict(X_test))"
   ]
  },
  {
   "cell_type": "code",
   "execution_count": null,
   "id": "0807c1bf",
   "metadata": {},
   "outputs": [],
   "source": [
    "metrics.max_error(peak2d(X_test[:, 0], X_test[:, 1]), pipe.predict(X_test))"
   ]
  },
  {
   "cell_type": "markdown",
   "id": "d69bc47c",
   "metadata": {},
   "source": [
    "The maximum error is quite high but still acceptable for the purpose of this example."
   ]
  },
  {
   "cell_type": "code",
   "execution_count": null,
   "id": "b0bcdb96",
   "metadata": {},
   "outputs": [],
   "source": [
    "fig, ax = plt.subplots(subplot_kw={\"projection\": \"3d\"})\n",
    "# Plot the surface.\n",
    "surf = ax.plot_surface(\n",
    "    xx,\n",
    "    yy,\n",
    "    pipe.predict(X).reshape(xx.shape),\n",
    "    cmap=cm.coolwarm,\n",
    "    linewidth=0.01,\n",
    "    antialiased=False,\n",
    ")\n",
    "# Add a color bar which maps values to colors.\n",
    "fig.colorbar(surf, shrink=0.5, aspect=5)\n",
    "\n",
    "plt.show()"
   ]
  },
  {
   "cell_type": "markdown",
   "id": "cd5a2ced",
   "metadata": {},
   "source": [
    "Optically, the approximation looks very close to the original function."
   ]
  },
  {
   "cell_type": "markdown",
   "id": "a7293c95",
   "metadata": {},
   "source": [
    "##### Construct the optimization model"
   ]
  },
  {
   "cell_type": "code",
   "execution_count": null,
   "id": "ccb78e0c",
   "metadata": {},
   "outputs": [],
   "source": [
    "optfeat = [0, 1]"
   ]
  },
  {
   "cell_type": "code",
   "execution_count": null,
   "id": "ffab53b5",
   "metadata": {},
   "outputs": [],
   "source": [
    "# Start with classical part of the model\n",
    "m = gp.Model()\n",
    "\n",
    "x = m.addMVar((len(optfeat)), lb=-1, ub=1, name=\"x\")\n",
    "y = m.addVar(lb=-GRB.INFINITY, name=\"y\")\n",
    "\n",
    "m.setObjective(y, gp.GRB.MINIMIZE)\n",
    "\n",
    "# create transforms to turn scikit-learn pipeline into Gurobi constraints\n",
    "PipelineConstr(m, pipe, x, y)"
   ]
  },
  {
   "cell_type": "markdown",
   "id": "042b9d06",
   "metadata": {},
   "source": [
    "##### Finally optimize the model"
   ]
  },
  {
   "cell_type": "code",
   "execution_count": null,
   "id": "7fcbfb7e",
   "metadata": {},
   "outputs": [],
   "source": [
    "m.Params.TimeLimit = 20\n",
    "m.Params.MIPGap = 0.1"
   ]
  },
  {
   "cell_type": "code",
   "execution_count": null,
   "id": "eaa1b1c2-5591-4de9-9553-e681dd999bc5",
   "metadata": {},
   "outputs": [],
   "source": [
    "m.optimize()"
   ]
  },
  {
   "cell_type": "markdown",
   "id": "3208ac31",
   "metadata": {},
   "source": [
    "##### Look at the solution and objective value"
   ]
  },
  {
   "cell_type": "code",
   "execution_count": null,
   "id": "44808a02",
   "metadata": {},
   "outputs": [],
   "source": [
    "print(x.X) # solution point of the approximated problem\n",
    "print(m.ObjVal) # objective value of the approximated problem\n",
    "print(peak2d(x[0].X, x[1].X)) # function value at the solution point of the approximated problem\n",
    "print(abs(peak2d(x[0].X, x[1].X) - m.ObjVal)) # error of the approximation"
   ]
  },
  {
   "cell_type": "markdown",
   "id": "a072009f",
   "metadata": {},
   "source": [
    "The difference between the function and the approximation at the computed solution point is noticable but acceptable given the big maximum error of the neural network approximation."
   ]
  },
  {
   "cell_type": "markdown",
   "id": "a8209366-74bd-4807-a9c9-f9fff3544519",
   "metadata": {},
   "source": [
    "Copyright © 2020 Gurobi Optimization, LLC"
   ]
  },
  {
   "cell_type": "code",
   "execution_count": null,
   "id": "a5e3a994",
   "metadata": {},
   "outputs": [],
   "source": []
  }
 ],
 "metadata": {
  "kernelspec": {
   "display_name": "Python 3 (ipykernel)",
   "language": "python",
   "name": "python3"
  },
  "language_info": {
   "codemirror_mode": {
    "name": "ipython",
    "version": 3
   },
   "file_extension": ".py",
   "mimetype": "text/x-python",
   "name": "python",
   "nbconvert_exporter": "python",
   "pygments_lexer": "ipython3",
   "version": "3.9.5"
  },
  "vscode": {
   "interpreter": {
    "hash": "949777d72b0d2535278d3dc13498b2535136f6dfe0678499012e853ee9abcab1"
   }
  }
 },
 "nbformat": 4,
 "nbformat_minor": 5
}
