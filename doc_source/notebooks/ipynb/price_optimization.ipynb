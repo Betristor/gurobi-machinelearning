{
 "cells": [
  {
   "cell_type": "markdown",
   "id": "befacf99",
   "metadata": {},
   "source": [
    "# Pricing and Supply problem\n",
    "\n",
    "This example is a limited version of the example [How Much Is Too Much? Avocado Pricing and Supply Using Mathematical Optimization](https://github.com/Gurobi/modeling-examples/tree/master/price_optimization). It is only aimed at showing the capabilities of Gurobi Machine Learning. Please visit the full notebook page, for detailed explanations and analysis of the problem.\n",
    "\n",
    "A [Food Network article](https://www.foodnetwork.com/fn-dish/news/2018/3/avocado-unseats-banana-as-america-s-top-fruit-import-by-value) from March 2017 declared, \"Avocado unseats banana as America's top fruit import.\" This declaration is incomplete and debatable for reasons other than whether  avocado is a fruit. Avocados are expensive.\n",
    "\n",
    "As a supplier, setting an appropriate avocado price requires a delicate trade-off.\n",
    "Set it too high and you lose customers. Set it too low and you won't make a profit.\n",
    "Equipped with good data, the avocado pricing and supply problem is *ripe* with opportunities for demonstrating the power of optimization and data science.\n",
    "\n",
    "They say when life gives you avocados, make guacamole.\n",
    "Just like the perfect guacamole needs the right blend of onion, lemon and spices, finding an optimal avocado price needs the right blend of descriptive, predictive and prescriptive analytics.\n",
    "\n",
    "|<img src=\"https://github.com/Gurobi/modeling-examples/blob/master/price_optimization/avocado_image_grocery.jpeg?raw=1\" width=\"500\" align=\"center\">|\n",
    "|:--:|\n",
    "| <b>Avocados: a quintessential corner of a grocery store. Image Credits: [New York Post](https://nypost.com/2022/02/15/us-will-halt-mexico-avocado-imports-as-long-as-necessary/) </b>|\n",
    "\n",
    "\n",
    "In this example, we build a prediction model that predicts the demand for avocados as a function of price, region, year and the seasonality. We then design an optimization problem that sets the optimal price and supply quantity to maximize the net revenue while incorporating costs for wastage and transportation.\n",
    "\n",
    "This example illustrates in particular how to deal with categorical features.\n",
    "\n",
    "## Load the Packages and the Datasets\n",
    "\n",
    "We use real sales data provided by the [Hass Avocado Board](https://hassavocadoboard.com/) (HAB), whose aim is to \"make avocados America’s most popular fruit\". This dataset contains consolidated information on several years' worth of market prices and sales of avocados.\n",
    "\n",
    "We will now load the following packages for analyzing and visualizing the data."
   ]
  },
  {
   "cell_type": "code",
   "execution_count": null,
   "id": "21e0e5f4",
   "metadata": {},
   "outputs": [],
   "source": [
    "import pandas as pd\n",
    "\n",
    "import matplotlib.pyplot as plt\n",
    "\n",
    "import seaborn as sns\n",
    "import numpy as np"
   ]
  },
  {
   "cell_type": "markdown",
   "id": "eb3420d3",
   "metadata": {},
   "source": [
    "The dataset from HAB contains sales data for the years 2019-2022. This data is augmented by a previous download from HAB available on [Kaggle](https://www.kaggle.com/datasets/timmate/avocado-prices-2020) with sales for the years 2015-2018.\n",
    "\n",
    "Each row in the dataset is the weekly number of avocados sold and the weekly average price of an avocado categorized by region and type of avocado. There are two types of avocados: conventional and organic. In this notebook, we will only consider the conventional avocados.\n",
    "There are eight large regions relevant for this example, namely the Great Lakes, Midsouth, North East, Northern New England, South Central, South East, West and Plains.\n",
    "\n",
    "Now, load the data and store it into a Pandas dataframe."
   ]
  },
  {
   "cell_type": "code",
   "execution_count": null,
   "id": "3c63637b",
   "metadata": {},
   "outputs": [],
   "source": [
    "avocado = pd.read_csv('https://raw.githubusercontent.com/Gurobi/modeling-examples/master/price_optimization/HABdata_2019_2022.csv') # dataset downloaded directly from HAB\n",
    "avocado_old = pd.read_csv('https://raw.githubusercontent.com/Gurobi/modeling-examples/master/price_optimization/kaggledata_till2018.csv') # dataset downloaded from Kaggle\n",
    "avocado = pd.concat([avocado_old, avocado])\n",
    "avocado"
   ]
  },
  {
   "cell_type": "markdown",
   "id": "e5b95906",
   "metadata": {},
   "source": [
    "## Prepare the Dataset\n",
    "\n",
    "To prepare the data for making sales predictions, we add new columns to the dataframe for the year and seasonality. We give each year from 2015 through 2022 an index from 0 through 7 in the increasing order of the year. Also, we define the peak season to be the months of February through July. These months are set based on visual inspection of the trends, but you can try setting other months.\n",
    "\n",
    "Finally, we scale the number of avocados sold to millions, we select \"conventional\" avocados for our model and we exclude rows of the data frame that aggregate data for the whole US."
   ]
  },
  {
   "cell_type": "code",
   "execution_count": null,
   "id": "9358df8a",
   "metadata": {},
   "outputs": [],
   "source": [
    "# Add the index for each year from 2015 through 2022\n",
    "pd.set_option(\"display.max_colwidth\",10)\n",
    "avocado['date'] = pd.to_datetime(avocado['date'])\n",
    "avocado['year'] = pd.DatetimeIndex(avocado['date']).year\n",
    "avocado['year_index'] = avocado['year'] - 2015\n",
    "avocado = avocado.sort_values(by='date')\n",
    "\n",
    "# Define the peak season\n",
    "avocado['month'] = pd.DatetimeIndex(avocado['date']).month\n",
    "peak_months = range(2,8)        # <--------- Set the months for the \"peak season\"\n",
    "def peak_season(row):\n",
    "    return 1 if int(row['month']) in peak_months else 0\n",
    "\n",
    "avocado['peak'] = avocado.apply(lambda row: peak_season(row), axis=1)\n",
    "\n",
    "# Scale the number of avocados to millions\n",
    "avocado['units_sold'] = avocado['units_sold']/1000000\n",
    "\n",
    "# Select only conventional avocados\n",
    "avocado = avocado[avocado['type'] == 'Conventional']\n",
    "\n",
    "# Remove 'US_total' region\n",
    "avocado = avocado[avocado['region'] != 'Total_US']\n",
    "\n",
    "\n",
    "avocado = avocado[['units_sold','price','region','year_index','peak']].reset_index(drop = True)"
   ]
  },
  {
   "cell_type": "markdown",
   "id": "c532826e",
   "metadata": {},
   "source": [
    "## Predict the Sales\n",
    "\n",
    "\n",
    "Let us now construct a linear regressor for the sales (`\"units_sold\"`) using the independent variables price, year, region and seasonality.\n",
    "\n",
    "Note that the region is a categorical variable. We use `Scikit-learn`'s `ÒneHotEncoder` to encode it for the linear  regression, and we use `make_column_transformer` to transform the data.\n",
    "\n",
    "To validate the regression model, we randomly split the dataset into $80\\%$ training and $20\\%$ testing data and learn the weights using sklearn."
   ]
  },
  {
   "cell_type": "code",
   "execution_count": null,
   "id": "7b9ba8e5",
   "metadata": {},
   "outputs": [],
   "source": [
    "from sklearn.preprocessing import OneHotEncoder\n",
    "from sklearn.preprocessing import StandardScaler\n",
    "\n",
    "from sklearn.compose import make_column_transformer\n",
    "from sklearn.pipeline import make_pipeline\n",
    "from sklearn.model_selection import train_test_split\n",
    "from sklearn.linear_model import LinearRegression\n",
    "from sklearn.metrics import r2_score\n",
    "\n",
    "from gurobi_ml import add_predictor_constr"
   ]
  },
  {
   "cell_type": "markdown",
   "id": "42a28984",
   "metadata": {},
   "source": [
    "Stores the column labels of features and target. When doing the optimization model it's very important in particular to always keep the features in the same order."
   ]
  },
  {
   "cell_type": "code",
   "execution_count": null,
   "id": "e858aa8d",
   "metadata": {},
   "outputs": [],
   "source": [
    "target = 'units_sold'\n",
    "features = ['price', 'year_index', 'region', 'peak']\n",
    "\n",
    "y = avocado.loc[:, target]\n",
    "X = avocado.loc[:, features]"
   ]
  },
  {
   "cell_type": "markdown",
   "id": "59cac48f",
   "metadata": {},
   "source": [
    "We build a column transformer to encode the categorical feature.\n",
    "\n",
    "Note that Gurobi cannot deal directly with categorical variables. Therefore we need to apply the transform to the training data before fitting the regression.\n",
    "\n",
    "Later, the transormer is used to build the Gurobi Model."
   ]
  },
  {
   "cell_type": "code",
   "execution_count": null,
   "id": "50f484c4",
   "metadata": {},
   "outputs": [],
   "source": [
    "transformer = make_column_transformer((OneHotEncoder(drop=\"first\"), ['region']), remainder='passthrough',\n",
    "                                    verbose_feature_names_out=False)\n",
    "\n",
    "X = transformer.fit_transform(X)"
   ]
  },
  {
   "cell_type": "markdown",
   "id": "951edc2b",
   "metadata": {},
   "source": [
    "Now the data can be split and the regression is fitted."
   ]
  },
  {
   "cell_type": "code",
   "execution_count": null,
   "id": "df83d43c",
   "metadata": {},
   "outputs": [],
   "source": [
    "# Split the data for training and testing\n",
    "X_train, X_test, y_train, y_test = train_test_split(X, y, train_size=0.8, random_state=1)\n",
    "\n",
    "# Train the model\n",
    "regression = LinearRegression()\n",
    "regression.fit(X_train, y_train)\n",
    "\n",
    "# Get R^2 from test data\n",
    "y_pred = regression.predict(X_test)\n",
    "print(\"The R^2 value in the test set is\",r2_score(y_test, y_pred))"
   ]
  },
  {
   "cell_type": "markdown",
   "id": "0ffd8ff1",
   "metadata": {},
   "source": [
    "We can observe a good $R^2$ value in the test set. We will now fit the weights to the full dataset."
   ]
  },
  {
   "cell_type": "code",
   "execution_count": null,
   "id": "307aa17f",
   "metadata": {},
   "outputs": [],
   "source": [
    "regression.fit(X, y)\n",
    "\n",
    "y_pred_full = regression.predict(X)\n",
    "print(\"The R^2 value in the full dataset is\",r2_score(y, y_pred_full))"
   ]
  },
  {
   "cell_type": "markdown",
   "id": "31bf2d34",
   "metadata": {},
   "source": [
    "## Optimize for Price and Supply of Avocados\n",
    "\n",
    "\n",
    "Knowing how the price of an avocado affects the demand, how can we set the optimal avocado price?\n",
    "We don't want to set the price too high, since that could drive demand and sales down. At the same time, setting the price too low could be sub-optimal when maximizing revenue. So what is the sweet spot?\n",
    "\n",
    "On the distribution logistics, we want to make sure that there are enough avocados across the regions. We can address these considerations in a mathematical optimization model.\n",
    "An optimization model finds the **best solution** according to an **objective function** such that the solution satisfies a set of **constraints**.\n",
    "Here, a solution is expressed as a vector of real values or integer values called **decision variables**.\n",
    "Constraints are a set of equations or inequalities written as a function of the decision variables.\n",
    "\n",
    "At the start of each week, assume that the total number of available products is finite. This quantity needs to be distributed to the various regions while maximizing net revenue. So there are two key decisions - the price of an avocado in each region, and the number of avocados allocated to each region.\n",
    "\n",
    "Let us now define some input parameters and notations used for creating the model. The subscript $r$ will be used to denote each region.\n",
    "\n",
    "### Input Parameters\n",
    "- $R$: set of regions,\n",
    "- $d(p,r)$: predicted demand in region $r\\in R$ when the avocado per product is $p$,\n",
    "- $B$: available avocados to be distributed across the regions,\n",
    "- $c_{waste}$: cost ($\\$$) per wasted avocado,\n",
    "- $c^r_{transport}$: cost ($\\$$) of transporting an avocado to region $r \\in R$,\n",
    "- $a^r_{min},a^r_{max}$: minimum and maximum price ($\\$$) per avocado for reigon $r \\in R$,\n",
    "- $b^r_{min},b^r_{max}$: minimum and maximum number of avocados allocated to region $r \\in R$,\n",
    "\n",
    "The following code loads the Gurobi python package and initiates the optimization model.\n",
    "The value of $B$ is set to $30$ million avocados, which is close to the average weekly supply value from the data.\n",
    "For illustration, let us consider the peak season of 2021.\n",
    "The cost of wasting an avocado is set to $\\$0.10$.\n",
    "The cost of transporting an avocado ranges between $\\$0.10$ to $\\$0.50$ based on each region's distance from the southern border, where the [majority of avocado supply comes from](https://www.britannica.com/plant/avocado).\n",
    "Further, we can set the price of an avocado to not exceed $\\$ 2$ apiece."
   ]
  },
  {
   "cell_type": "code",
   "execution_count": null,
   "id": "b0402d3c",
   "metadata": {},
   "outputs": [],
   "source": [
    "onehot = transformer.named_transformers_['onehotencoder']"
   ]
  },
  {
   "cell_type": "code",
   "execution_count": null,
   "id": "2e78184b",
   "metadata": {},
   "outputs": [],
   "source": [
    "regions = onehot.categories_"
   ]
  },
  {
   "cell_type": "code",
   "execution_count": null,
   "id": "289819ed",
   "metadata": {},
   "outputs": [],
   "source": [
    "regions"
   ]
  },
  {
   "cell_type": "code",
   "execution_count": null,
   "id": "5650a289",
   "metadata": {},
   "outputs": [],
   "source": [
    "regions = regions[0].tolist()"
   ]
  },
  {
   "cell_type": "code",
   "execution_count": null,
   "id": "5b4e2249",
   "metadata": {},
   "outputs": [],
   "source": [
    "import gurobipy as gp\n",
    "from gurobipy import GRB\n",
    "\n",
    "m = gp.Model(\"Avocado_Price_Allocation\")\n",
    "\n",
    "# Sets and parameters\n",
    "R = len(regions)   # set of all regions\n",
    "\n",
    "B = 30  # total amount ot avocado supply\n",
    "\n",
    "peak_or_not = 1 # 1 if it is the peak season; 1 if isn't\n",
    "year = 2021\n",
    "\n",
    "c_waste = 0.1 # the cost ($) of wasting an avocado\n",
    "\n",
    "# the cost of transporting an avocado\n",
    "c_transport = pd.Series({'Great_Lakes': .3,\n",
    "                         'Midsouth':.1,\n",
    "                         'Northeast':.4,\n",
    "                         'Northern_New_England':.5,\n",
    "                         'SouthCentral':.3,\n",
    "                         'Southeast':.2,\n",
    "                         'West':.2,\n",
    "                         'Plains':.2})\n",
    "c_transport = c_transport.loc[regions]\n",
    "# Get the lower and upper bounds from the dataset for the price and the number of products to be stocked\n",
    "a_min = 0 # minimum avocado price in each region\n",
    "a_max = 2 # maximum avocado price in each region\n",
    "b_min = avocado.groupby('region')['units_sold'].min().loc[regions]  # minimum number of avocados allocated to each region\n",
    "b_max = avocado.groupby('region')['units_sold'].max().loc[regions]   # maximum number of avocados allocated to each region"
   ]
  },
  {
   "cell_type": "code",
   "execution_count": null,
   "id": "63d6d29f",
   "metadata": {},
   "outputs": [],
   "source": [
    "# Compute bounds for the features\n",
    "\n",
    "# First create a data frame indexed by the regions and with the features\n",
    "# as columns\n",
    "feat_lb = pd.DataFrame(index=regions, data=regions, columns=['region'])\n",
    "feat_lb['price'] = a_min\n",
    "feat_lb['peak'] = peak_or_not\n",
    "feat_lb['year_index'] = year - 2015\n",
    "\n",
    "feat_lb = feat_lb.loc[regions, features]\n",
    "# Now we use our transform to transform the data to the space of the regression\n",
    "feat_lb = pd.DataFrame(data=transformer.transform(feat_lb), columns=transformer.get_feature_names_out(),\n",
    "                       index=regions)\n",
    "\n",
    "# Construct the data frame for upper bounds\n",
    "# Price is the only feature that is not fixed and has a different upper bound\n",
    "feat_ub = feat_lb.copy()\n",
    "feat_ub['price'] = a_max"
   ]
  },
  {
   "cell_type": "markdown",
   "id": "14ab1aaf",
   "metadata": {},
   "source": [
    "### Decision Variables\n",
    "\n",
    "Let us now define the decision variables.\n",
    "In our model, we want to store the price and number of avocados allocated to each region. We also want variables that track how many avocados are predicted to be sold and how many are predicted to be wasted.\n",
    "The following notation is used to model these decision variables, indexed for each region $r$.\n",
    "\n",
    "$p_r$: the price of an avocado ($\\$$) in region $r$,\n",
    "\n",
    "$x_r$: the number of avocados supplied to region $r$,\n",
    "\n",
    "$s_r = \\min \\{x_r,d_r(p_r)\\}$: the predicted number of avocados sold in region $r$,\n",
    "\n",
    "$w_r = x_r - s_r$: the predicted number of avocados wasted in region $r$\n",
    "\n",
    "We will now add the variables to the Gurobi model."
   ]
  },
  {
   "cell_type": "code",
   "execution_count": null,
   "id": "348a7cc4",
   "metadata": {},
   "outputs": [],
   "source": [
    "x = m.addMVar(R,name=\"x\",lb=b_min,ub=b_max)  # quantity supplied to each region\n",
    "s = m.addMVar(R,name=\"s\",lb=0)   # predicted amount of sales in each region for the given price\n",
    "w = m.addMVar(R,name=\"w\",lb=0)   # excess wasteage in each region\n",
    "\n",
    "# Add variables for the regression\n",
    "feats = m.addMVar(feat_lb.shape, lb=feat_lb.to_numpy(), ub=feat_ub.to_numpy(), name='reg_features')\n",
    "d = m.addMVar((R), lb=-gp.GRB.INFINITY, name='reg_output')\n",
    "\n",
    "# Get the price variables from the features of the regression\n",
    "price_index = np.where(transformer.get_feature_names_out() == 'price')[0][0]\n",
    "p = feats[:, price_index]\n",
    "m.update()"
   ]
  },
  {
   "cell_type": "markdown",
   "id": "1f6c6eea",
   "metadata": {},
   "source": [
    "### Set the Objective\n",
    "\n",
    "Next, we will define the objective function: we want to maximize the **net revenue**. The revenue from sales in each region is calculated by the price of an avocado in that region multiplied by the quantity sold there. There are two types of costs incurred: the wastage costs for excess unsold avocados and the cost of transporting the avocados to the different regions.\n",
    "\n",
    "The net revenue is the sales revenue subtracted by the total costs incurred. We assume that the purchase costs are fixed and are not incorporated in this model.\n",
    "\n",
    "Using the defined decision variables, the objective can be written as follows.\n",
    "\n",
    "\n",
    "$$\\textrm{maximize} \\, \\sum_{r}  (p_r \\cdot s_r - c_{waste} \\cdot w_r - c^r_{transport} \\cdot x_r) $$\n",
    "\n",
    "\n",
    "Let us now add the objective function to the model."
   ]
  },
  {
   "cell_type": "code",
   "execution_count": null,
   "id": "2d948b99",
   "metadata": {},
   "outputs": [],
   "source": [
    "m.setObjective(p@s - c_waste * w.sum()- c_transport.to_numpy() @ x)\n",
    "m.ModelSense = GRB.MAXIMIZE"
   ]
  },
  {
   "cell_type": "markdown",
   "id": "57585f4b",
   "metadata": {},
   "source": [
    "### Add the Supply Constraint\n",
    "\n",
    "We now introduce the constraints. The first constraint is to make sure that the total number of avocados supplied is equal to $B$, which can be mathematically expressed as follows.\n",
    "\n",
    "$$\\sum_{r} x_r = B$$\n",
    "\n",
    "The following code adds this constraint to the model."
   ]
  },
  {
   "cell_type": "code",
   "execution_count": null,
   "id": "3310e2b5",
   "metadata": {},
   "outputs": [],
   "source": [
    "m.addConstr(x.sum() <= B)\n",
    "m.update()"
   ]
  },
  {
   "cell_type": "markdown",
   "id": "5eb586d8",
   "metadata": {},
   "source": [
    "### Add Constraints That Define Sales Quantity\n",
    "\n",
    "Next, we should define the predicted sales quantity in each region.\n",
    "We can assume that if we supply more than the predicted demand, we sell exactly the predicted demand.\n",
    "Otherwise, we sell exactly the allocated amount.\n",
    "Hence, the predicted sales quantity is the minimum of the allocated quantity and the predicted demand, i.e., $s_r = \\min \\{x_r,d_r(p_r)\\}$.\n",
    "This relationship can be modeled by the following two constraints for each region $r$.\n",
    "\n",
    "$$\n",
    "\\begin{aligned}\n",
    "s_r &\\leq x_r  \\\\\n",
    "s_r &\\leq d(p_r,r)\n",
    "\\end{aligned}\n",
    "$$\n",
    "\n",
    "These constraints will ensure that the sales quantity $s_r$ in region $r$ is  greater than neither the allocated quantity nor the predicted demand. Note that the maximization objective function tries to maximize the revenue from sales, and therefore the optimizer will maximize the predicted sales quantity. This is assuming that the surplus and transportation costs are less than the sales price per avocado. Hence, these constraints along with the objective will ensure that the sales are equal to the minimum of supply and predicted demand.\n",
    "\n",
    "Let us now add these constraints to the model."
   ]
  },
  {
   "cell_type": "code",
   "execution_count": null,
   "id": "580f5edb",
   "metadata": {},
   "outputs": [],
   "source": [
    "m.addConstr(s <= x)\n",
    "m.addConstr(s <= d)\n",
    "m.update()"
   ]
  },
  {
   "cell_type": "markdown",
   "id": "da19eb5f",
   "metadata": {},
   "source": [
    "### Add the Wastage Constraints\n",
    "\n",
    "Finally, we should define the predicted wastage in each region, given by the supplied quantity that is not predicted to be sold. We can express this mathematically for each region $r$.\n",
    "\n",
    "$$w_r = x_r - s_r$$\n",
    "\n",
    "We can add these constraints to the model."
   ]
  },
  {
   "cell_type": "code",
   "execution_count": null,
   "id": "71d37f39",
   "metadata": {},
   "outputs": [],
   "source": [
    "m.addConstr(w >= x - s)\n",
    "m.update()"
   ]
  },
  {
   "cell_type": "code",
   "execution_count": null,
   "id": "2b21bafb",
   "metadata": {},
   "outputs": [],
   "source": [
    "pred_constr = add_predictor_constr(m, regression, feats, d)"
   ]
  },
  {
   "cell_type": "code",
   "execution_count": null,
   "id": "10e72a84",
   "metadata": {},
   "outputs": [],
   "source": [
    "pred_constr.print_stats()"
   ]
  },
  {
   "cell_type": "markdown",
   "id": "a591a8a3",
   "metadata": {},
   "source": [
    "### Fire Up the Solver\n",
    "\n",
    "We have added the decision variables, objective function, and the constraints to the model.\n",
    "The model is ready to be solved.\n",
    "Before we do so, we should let the solver know what type of model this is.\n",
    "The default setting assumes that the objective and the constraints are linear functions of the variables.\n",
    "\n",
    "In our model, the objective is **quadratic** since we take the product of price and the predicted sales, both of which are variables.\n",
    "Maximizing a quadratic term is said to be **non-convex**, and we specify this by setting the value of the Gurobi parameter **NonConvex** to be $2$.\n",
    "See [the documentation of the NonConvex parameter](https://www.gurobi.com/documentation/9.5/refman/nonconvex.html) for more details."
   ]
  },
  {
   "cell_type": "code",
   "execution_count": null,
   "id": "fe6a90bd",
   "metadata": {},
   "outputs": [],
   "source": [
    "m.Params.NonConvex = 2\n",
    "m.Params.Presolve = 0\n",
    "m.optimize()"
   ]
  },
  {
   "cell_type": "code",
   "execution_count": null,
   "id": "26a643f4",
   "metadata": {},
   "outputs": [],
   "source": [
    "print(f\"Maximal error in predicted values in solution {np.max(np.abs(pred_constr.get_error()))}\")"
   ]
  },
  {
   "cell_type": "markdown",
   "id": "a9769e47",
   "metadata": {},
   "source": [
    "The solver solved the optimization problem in less than a second.\n",
    "Let us now analyze the optimal solution by storing it in a Pandas dataframe."
   ]
  },
  {
   "cell_type": "code",
   "execution_count": null,
   "id": "b4cd68dd",
   "metadata": {},
   "outputs": [],
   "source": [
    "pd.set_option(\"display.max_colwidth\",50)\n",
    "solution = pd.DataFrame()\n",
    "solution['Region'] = regions\n",
    "solution['Price'] = p.X.round(3)\n",
    "solution['Allocated'] = x.X.round(4)\n",
    "solution['Sold'] = s.X.round(4)\n",
    "solution['Wasted'] = w.X.round(4)\n",
    "solution['Pred_demand'] = d.X.round(4)\n",
    "\n",
    "opt_revenue = m.ObjVal\n",
    "print(\"\\n The optimal net revenue: $%f million\"%opt_revenue)\n",
    "solution"
   ]
  },
  {
   "cell_type": "markdown",
   "id": "aab462b8",
   "metadata": {},
   "source": [
    "Let us now visualize a scatter plot between the price and the number of avocados sold (in millions) for the eight regions."
   ]
  },
  {
   "cell_type": "code",
   "execution_count": null,
   "id": "730ac5bc",
   "metadata": {},
   "outputs": [],
   "source": [
    "fig, ax = plt.subplots(1,1)\n",
    "plot_sol = sns.scatterplot(data=solution,x='Price',y='Sold',hue='Region',s=100)\n",
    "plot_waste = sns.scatterplot(data=solution,x='Price',y='Wasted',marker='x',hue='Region',s=100,legend = False)\n",
    "\n",
    "plot_sol.legend(loc='center left', bbox_to_anchor=(1.25, 0.5), ncol=1)\n",
    "plot_waste.legend(loc='center left', bbox_to_anchor=(1.25, 0.5), ncol=1)\n",
    "plt.ylim(0, 10)\n",
    "plt.xlim(0.5, 2.2)\n",
    "ax.set_xlabel('Price per avocado ($)')\n",
    "ax.set_ylabel('Number of avocados sold (millions)')\n",
    "plt.show()\n",
    "print(\"The circles represent sales quantity and the cross markers represent the wasted quantity.\")"
   ]
  },
  {
   "cell_type": "markdown",
   "id": "bf197c69",
   "metadata": {},
   "source": [
    "Copyright © 2022 Gurobi Optimization, LLC"
   ]
  }
 ],
 "metadata": {
  "jupytext": {
   "formats": "ipynb///ipynb,myst///md:myst"
  },
  "kernelspec": {
   "display_name": "Python 3 (ipykernel)",
   "language": "python",
   "name": "python3"
  },
  "language_info": {
   "codemirror_mode": {
    "name": "ipython",
    "version": 3
   },
   "file_extension": ".py",
   "mimetype": "text/x-python",
   "name": "python",
   "nbconvert_exporter": "python",
   "pygments_lexer": "ipython3",
   "version": "3.9.12"
  }
 },
 "nbformat": 4,
 "nbformat_minor": 5
}
