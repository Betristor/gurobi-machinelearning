{
 "cells": [
  {
   "cell_type": "markdown",
   "id": "a56847a2",
   "metadata": {},
   "source": [
    "# Surrogate functions\n",
    "\n",
    "Extra required packages:\n",
    "- matplotlib\n",
    "\n",
    "{cite:p}`Henao_Maravelias_2011`\n",
    "{cite:p}`Lu_Pu_2017`\n",
    "{cite:p}`Henao_Maravelias_2011`\n",
    "Optimization solvers often struggle to prove a global optimum of a model when\n",
    "it holds highly nonlinear functions. The reason is often that relaxations\n",
    "of the nonlinear functions are not good enough to make the solver prove an\n",
    "acceptable bound in a reasonable amount of time. Another issue might be that a\n",
    "given solver does not support nonlinear functions, but only accepts linear ones.\n",
    "\n",
    "One possible solution for this problem is to approximate the problematic nonlinear\n",
    "functions via neural networks and use MIP technology to solve the constructed\n",
    "approximation efficiently. A piecewise-linear approximation of the nonlinear\n",
    "function of interest might be considered but usually gets more expensive and hard to\n",
    "model with increasing function dimensions. In the following example, we show how to\n",
    "approximate a nonlinear function via sklearn's MLPRegressor and accordingly solve the\n",
    "neural network approximation of the nonlinear function with Gurobi.\n",
    "\n",
    "The purpose of this example is solely to present the idea of approximating\n",
    "any given function via neural networks and solving the approximation through MIP\n",
    "technology.\n",
    "\n",
    "The function we will approximate is the 2D peak function which can be found on\n",
    "many mathematical company logos and book covers. The function is given as\n",
    "\n",
    "$$\n",
    "f(x,y) = 3 \\cdot (1-x)^2 \\cdot \\exp(-x^2 - (y+1)^2) - 10\n",
    "         \\cdot (\\frac{x}{5} - x^3 - y^5) \\cdot \\exp(-x^2 - y^2) -\n",
    "         \\frac{1}{3} \\cdot \\exp(-(x+1)^2 - y^2).\n",
    "$$\n",
    "\n",
    "In this example, we will search for the global minimum of %f% over a small interval.\n",
    "\n",
    "$$\\begin{align*}\n",
    "&\\min_{x,y} f(x,y)\\\\\n",
    "&\\text{s.t.}\\\\\n",
    "&x,y \\in [-1,1]\n",
    "\\end{align*}$$\n",
    "\n",
    "To find the global minimum of $f$, we will approximate $f(x,y)$ through a neural\n",
    "network function $g(x,y)$ to obtain a MIP and solve\n",
    "\n",
    "$$\\begin{align*}\n",
    "&\\min_{x,y} g(x,y) \\approx f(x,y)\\\\\n",
    "&\\text{s.t.}\\\\\n",
    "&x,y \\in [-1,1]\n",
    "\\end{align*}$$\n",
    "\n",
    "with Gurobi."
   ]
  },
  {
   "cell_type": "code",
   "execution_count": null,
   "id": "71bb6dc1",
   "metadata": {},
   "outputs": [],
   "source": [
    "import gurobipy as gp\n",
    "import numpy as np\n",
    "from gurobipy import GRB\n",
    "from matplotlib import cm\n",
    "from matplotlib import pyplot as plt\n",
    "from sklearn import metrics\n",
    "from sklearn.neural_network import MLPRegressor\n",
    "from sklearn.preprocessing import PolynomialFeatures\n",
    "from sklearn.pipeline import make_pipeline\n",
    "from gurobi_ml.sklearn import PipelineConstr"
   ]
  },
  {
   "cell_type": "markdown",
   "id": "da2d5534",
   "metadata": {},
   "source": [
    "##### Define the nonlinear function of interest"
   ]
  },
  {
   "cell_type": "code",
   "execution_count": null,
   "id": "311c25c9",
   "metadata": {},
   "outputs": [],
   "source": [
    "def peak2d(xx, yy):\n",
    "    return (\n",
    "        3 * (1 - xx) ** 2.0 * np.exp(-(xx**2) - (yy + 1) ** 2)\n",
    "        - 10 * (xx / 5 - xx**3 - yy**5) * np.exp(-(xx**2) - yy**2)\n",
    "        - 1 / 3 * np.exp(-((xx + 1) ** 2) - yy**2)\n",
    "    )"
   ]
  },
  {
   "cell_type": "code",
   "execution_count": null,
   "id": "237291c6",
   "metadata": {},
   "outputs": [],
   "source": [
    "x = np.arange(-1, 1, 0.01)\n",
    "y = np.arange(-1, 1, 0.01)\n",
    "xx, yy = np.meshgrid(x, y)\n",
    "z = peak2d(xx, yy)"
   ]
  },
  {
   "cell_type": "code",
   "execution_count": null,
   "id": "2561612c",
   "metadata": {},
   "outputs": [],
   "source": [
    "fig, ax = plt.subplots(subplot_kw={\"projection\": \"3d\"})\n",
    "# Plot the surface.\n",
    "surf = ax.plot_surface(xx, yy, z, cmap=cm.coolwarm,\n",
    "                       linewidth=0.01, antialiased=False)\n",
    "# Add a color bar which maps values to colors.\n",
    "fig.colorbar(surf, shrink=0.5, aspect=5)\n",
    "\n",
    "plt.show()"
   ]
  },
  {
   "cell_type": "code",
   "execution_count": null,
   "id": "05dd8209",
   "metadata": {},
   "outputs": [],
   "source": [
    "X = np.concatenate([xx.ravel().reshape(-1, 1), yy.ravel().reshape(-1, 1)], axis=1)\n",
    "y = z.ravel()"
   ]
  },
  {
   "cell_type": "markdown",
   "id": "4e4863aa",
   "metadata": {},
   "source": [
    "##### Approximate the function and define a test set"
   ]
  },
  {
   "cell_type": "code",
   "execution_count": null,
   "id": "dde2cba5",
   "metadata": {},
   "outputs": [],
   "source": [
    "# Run our regression\n",
    "layers = [30, 30, 30]\n",
    "regression = MLPRegressor(hidden_layer_sizes=layers, activation=\"relu\")\n",
    "pipe = make_pipeline(PolynomialFeatures(), regression)\n",
    "pipe.fit(X=X, y=y)"
   ]
  },
  {
   "cell_type": "code",
   "execution_count": null,
   "id": "d936deb7",
   "metadata": {},
   "outputs": [],
   "source": [
    "X_test = np.random.random((100, 2)) * 2 - 1"
   ]
  },
  {
   "cell_type": "code",
   "execution_count": null,
   "id": "cffd36c7",
   "metadata": {},
   "outputs": [],
   "source": [
    "metrics.r2_score(peak2d(X_test[:, 0], X_test[:, 1]), pipe.predict(X_test))"
   ]
  },
  {
   "cell_type": "code",
   "execution_count": null,
   "id": "f2f58feb",
   "metadata": {},
   "outputs": [],
   "source": [
    "metrics.max_error(peak2d(X_test[:, 0], X_test[:, 1]), pipe.predict(X_test))"
   ]
  },
  {
   "cell_type": "markdown",
   "id": "12789d4f",
   "metadata": {},
   "source": [
    "The maximum error is quite high but still acceptable for the purpose of this example."
   ]
  },
  {
   "cell_type": "code",
   "execution_count": null,
   "id": "cf362535",
   "metadata": {},
   "outputs": [],
   "source": [
    "fig, ax = plt.subplots(subplot_kw={\"projection\": \"3d\"})\n",
    "# Plot the surface.\n",
    "surf = ax.plot_surface(\n",
    "    xx,\n",
    "    yy,\n",
    "    pipe.predict(X).reshape(xx.shape),\n",
    "    cmap=cm.coolwarm,\n",
    "    linewidth=0.01,\n",
    "    antialiased=False,\n",
    ")\n",
    "# Add a color bar which maps values to colors.\n",
    "fig.colorbar(surf, shrink=0.5, aspect=5)\n",
    "\n",
    "plt.show()"
   ]
  },
  {
   "cell_type": "markdown",
   "id": "16a87c42",
   "metadata": {},
   "source": [
    "Optically, the approximation looks very close to the original function."
   ]
  },
  {
   "cell_type": "markdown",
   "id": "915a8b35",
   "metadata": {},
   "source": [
    "##### Construct the optimization model"
   ]
  },
  {
   "cell_type": "code",
   "execution_count": null,
   "id": "b1fc6edf",
   "metadata": {},
   "outputs": [],
   "source": [
    "optfeat = [0, 1]"
   ]
  },
  {
   "cell_type": "code",
   "execution_count": null,
   "id": "b6b9a2f8",
   "metadata": {},
   "outputs": [],
   "source": [
    "# Start with classical part of the model\n",
    "m = gp.Model()\n",
    "\n",
    "x = m.addMVar((len(optfeat)), lb=-1, ub=1, name=\"x\")\n",
    "y = m.addVar(lb=-GRB.INFINITY, name=\"y\")\n",
    "\n",
    "m.setObjective(y, gp.GRB.MINIMIZE)\n",
    "\n",
    "# create transforms to turn scikit-learn pipeline into Gurobi constraints\n",
    "PipelineConstr(m, pipe, x, y)"
   ]
  },
  {
   "cell_type": "markdown",
   "id": "dc270aac",
   "metadata": {},
   "source": [
    "##### Finally optimize the model"
   ]
  },
  {
   "cell_type": "code",
   "execution_count": null,
   "id": "88786cdb",
   "metadata": {},
   "outputs": [],
   "source": [
    "m.Params.TimeLimit = 20\n",
    "m.Params.MIPGap = 0.1\n",
    "m.Params.NonConvex = 2"
   ]
  },
  {
   "cell_type": "code",
   "execution_count": null,
   "id": "c8dc0fad",
   "metadata": {},
   "outputs": [],
   "source": [
    "m.optimize()"
   ]
  },
  {
   "cell_type": "code",
   "execution_count": null,
   "id": "007b8593",
   "metadata": {},
   "outputs": [],
   "source": [
    "m.NumVars"
   ]
  },
  {
   "cell_type": "markdown",
   "id": "a1f64a1f",
   "metadata": {},
   "source": [
    "##### Look at the solution and objective value"
   ]
  },
  {
   "cell_type": "code",
   "execution_count": null,
   "id": "867e3581",
   "metadata": {},
   "outputs": [],
   "source": [
    "print(x.X) # solution point of the approximated problem\n",
    "print(m.ObjVal) # objective value of the approximated problem\n",
    "print(peak2d(x[0].X, x[1].X)) # function value at the solution point of the approximated problem\n",
    "print(abs(peak2d(x[0].X, x[1].X) - m.ObjVal)) # error of the approximation"
   ]
  },
  {
   "cell_type": "markdown",
   "id": "a9b94daf",
   "metadata": {},
   "source": [
    "The difference between the function and the approximation at the computed solution point is noticable but acceptable given the big maximum error of the neural network approximation."
   ]
  },
  {
   "cell_type": "markdown",
   "id": "cfa73d1a",
   "metadata": {},
   "source": [
    "Copyright © 2020 Gurobi Optimization, LLC"
   ]
  }
 ],
 "metadata": {
  "jupytext": {
   "formats": "ipynb///ipynb,myst///md:myst"
  },
  "kernelspec": {
   "display_name": "Python 3 (ipykernel)",
   "language": "python",
   "name": "python3"
  }
 },
 "nbformat": 4,
 "nbformat_minor": 5
}
