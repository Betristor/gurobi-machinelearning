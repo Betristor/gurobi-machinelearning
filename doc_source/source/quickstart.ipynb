{
 "cells": [
  {
   "cell_type": "markdown",
   "id": "ab946551",
   "metadata": {},
   "source": [
    "Simple Usage Example\n",
    "==================\n",
    "\n",
    "In this page, we provide a simple example of using the Gurobi Machine Learning package.\n",
    "\n",
    "The example is entirely abstract. Its aim is only to illustrate the basic functionalities of the\n",
    "package in the most simple way. For some more realistic applications please refer to the notebooks.\n",
    "\n",
    "Before proceeding to the example itself, we need to import a number of packages.\n",
    "Here, we will use scikit-learn to train regression models. We generate random data for the\n",
    "regression using the :external+sklearn:py:func:`sklearn.datasets.make_regression`. For the regression model, we use a neural network :external:py:class:`sklearn.neural_network.MLPRegressor`, import the corresponding\n",
    "objects."
   ]
  },
  {
   "cell_type": "code",
   "execution_count": null,
   "id": "c8d849ec",
   "metadata": {},
   "outputs": [],
   "source": [
    "from sklearn.datasets import make_regression\n",
    "from sklearn.metrics import mean_squared_error\n",
    "from sklearn.neural_network import MLPRegressor"
   ]
  },
  {
   "cell_type": "markdown",
   "id": "d9e715f9",
   "metadata": {},
   "source": [
    "Certainly, we also need gurobipy to build an optimization model and from the `gurobi_ml` package we need the `add_predictor_constr`\n",
    "function. We will also need numpy."
   ]
  },
  {
   "cell_type": "code",
   "execution_count": null,
   "id": "c03ecd1c",
   "metadata": {},
   "outputs": [],
   "source": [
    "import numpy as np\n",
    "import gurobipy as gp\n",
    "from gurobi_ml import add_predictor_constr"
   ]
  },
  {
   "cell_type": "markdown",
   "id": "99c6c710",
   "metadata": {},
   "source": [
    "We start by building artificial data for training our regressions. We use _make_regression_ to obtain\n",
    "data with 10 features."
   ]
  },
  {
   "cell_type": "code",
   "execution_count": null,
   "id": "02100b3b",
   "metadata": {},
   "outputs": [],
   "source": [
    "X, y = make_regression(n_features=10, noise=1.0)"
   ]
  },
  {
   "cell_type": "markdown",
   "id": "5caa3577",
   "metadata": {},
   "source": [
    "Now, create the MLPRegressor object and fit it."
   ]
  },
  {
   "cell_type": "code",
   "execution_count": null,
   "id": "52a3cc5e",
   "metadata": {},
   "outputs": [],
   "source": [
    "nn = MLPRegressor([20]*2, max_iter=10000, random_state=1)\n",
    "\n",
    "nn.fit(X, y)"
   ]
  },
  {
   "cell_type": "markdown",
   "id": "9bdde8c5",
   "metadata": {},
   "source": [
    "We now turn to the optimization model. In the spirit of adverserial machine learning examples, we want to use some training examples.\n",
    "we pick $n=5$ training examples randomly. For each of the examples, we want the optimization to pick an input that is in a small neighborhood of it that leads to the output that is closer to $0$ with the regression.\n",
    "\n",
    "Denoting by $X^E$ our set of examples and by $g$ the prediction function of our regression model, our optimization problem reads:\n",
    "\n",
    "$$\n",
    "\\begin{aligned}\n",
    "&\\min \\sum_{i=1}^5 y_i^2 \\\\\n",
    "&\\text{s.t.:}\\\\\n",
    "&y_i = g(X_i) & & i = 1, \\ldots, n,\\\\\n",
    "&X^E - \\delta \\leq X \\leq X^E + \\delta,\\\\\n",
    "\\end{aligned}\n",
    "$$\n",
    "\n",
    "where $X$ is a matrix of variables of dimension $5 \\times 10$ (the number of examples we consider and number of features in the regression respectively), $y$ is a vector of free (unbounded) variables and $\\delta$ a small positive constant.\n",
    "\n",
    "First, let's pick randomly 2 training examples using numpy, and create our gurobipy model."
   ]
  },
  {
   "cell_type": "code",
   "execution_count": null,
   "id": "8a56ea42",
   "metadata": {},
   "outputs": [],
   "source": [
    "n = 2\n",
    "index = np.random.choice(X.shape[0], n, replace=False)\n",
    "X_examples = X[index, :]\n",
    "y_examples = y[index]\n",
    "\n",
    "m = gp.Model()"
   ]
  },
  {
   "cell_type": "markdown",
   "id": "32a77546",
   "metadata": {},
   "source": [
    "Our only decision variables in this case, are the five inputs and outputs for the regression. We use gurobipy.MVar matrix variables that are most convenient in this case.\n",
    "\n",
    "The input variables have the same shape as `X_examples`. Their lower bound is `X_examples - delta` and their upper bound `X_examples + delta`.\n",
    "\n",
    "The output variables have the shape of `y_examples`. They are unbounded, by default in Gurobi variables are non-negative, we therefore need to set an infinite lower bound."
   ]
  },
  {
   "cell_type": "code",
   "execution_count": null,
   "id": "1ee08af2",
   "metadata": {},
   "outputs": [],
   "source": [
    "input_vars = m.addMVar(X_examples.shape, lb=X_examples-0.2, ub=X_examples+0.2)\n",
    "output_vars = m.addMVar(y_examples.shape, lb=-gp.GRB.INFINITY)"
   ]
  },
  {
   "cell_type": "markdown",
   "id": "a01f9ae2",
   "metadata": {},
   "source": [
    "The constraints linking `input_vars` and `output_vars` can now be added with the function `add_predictor_constr`.\n",
    "\n",
    "Note that because of the shape of the variables this will add the 5 different constraints.\n",
    "\n",
    "The function returns a modeling object that we can use later on."
   ]
  },
  {
   "cell_type": "code",
   "execution_count": null,
   "id": "772b5aaa",
   "metadata": {},
   "outputs": [],
   "source": [
    "pred_constr = add_predictor_constr(m, nn, input_vars, output_vars)"
   ]
  },
  {
   "cell_type": "markdown",
   "id": "cd5a0701",
   "metadata": {},
   "source": [
    "The member function `print_stats` of the modeling object outputs the details of the regression model that was added to the Gurobi."
   ]
  },
  {
   "cell_type": "code",
   "execution_count": null,
   "id": "3e8aad8c",
   "metadata": {},
   "outputs": [],
   "source": [
    "pred_constr.print_stats()"
   ]
  },
  {
   "cell_type": "markdown",
   "id": "c4809041",
   "metadata": {},
   "source": [
    "To finish the model we set the objective and then we can optimize it."
   ]
  },
  {
   "cell_type": "code",
   "execution_count": null,
   "id": "e5736af9",
   "metadata": {
    "tags": [
     "remove-input"
    ]
   },
   "outputs": [],
   "source": [
    "# This is some trickery for output\n",
    "m.params.LogToConsole = 0\n",
    "!rm -f gurobi.log\n",
    "m.params.LogFile = 'gurobi.log'"
   ]
  },
  {
   "cell_type": "code",
   "execution_count": null,
   "id": "71bde1b9",
   "metadata": {
    "tags": [
     "remove-stdout"
    ]
   },
   "outputs": [],
   "source": [
    "m.setObjective(output_vars@output_vars, gp.GRB.MINIMIZE)\n",
    "\n",
    "m.optimize()"
   ]
  },
  {
   "cell_type": "code",
   "execution_count": null,
   "id": "b2c4a579",
   "metadata": {
    "tags": [
     "remove-input"
    ]
   },
   "outputs": [],
   "source": [
    "!cat gurobi.log"
   ]
  },
  {
   "cell_type": "markdown",
   "id": "6bf39ad2",
   "metadata": {},
   "source": [
    "The function `get_error` is useful to check that the solution computed by Gurobi is correct with respect to the regression model we use.\n",
    "\n",
    "Let $(\\bar X, \\bar y)$ be the values of the input and output variables in the computed solution. The function returns $g(\\bar X) - y$ using the original regression (in this case the scikit-learn) object.\n",
    "\n",
    "Normally all values should be small and below Gurobi's tolerances."
   ]
  },
  {
   "cell_type": "code",
   "execution_count": null,
   "id": "3f36abd1",
   "metadata": {},
   "outputs": [],
   "source": [
    "pred_constr.get_error()"
   ]
  },
  {
   "cell_type": "markdown",
   "id": "caccbcfa",
   "metadata": {},
   "source": [
    "Finally, we can look at the computed values for the output variables and compare them with the original targets values"
   ]
  },
  {
   "cell_type": "code",
   "execution_count": null,
   "id": "1102091b",
   "metadata": {},
   "outputs": [],
   "source": [
    "output_vars.X"
   ]
  },
  {
   "cell_type": "code",
   "execution_count": null,
   "id": "86efd9c7",
   "metadata": {},
   "outputs": [],
   "source": [
    "y_examples"
   ]
  },
  {
   "cell_type": "markdown",
   "id": "5f2bed0a",
   "metadata": {},
   "source": [
    "Copyright @ Gurobi Optimization 2022"
   ]
  }
 ],
 "metadata": {
  "celltoolbar": "Tags",
  "kernelspec": {
   "display_name": "Python 3 (ipykernel)",
   "language": "python",
   "name": "python3"
  },
  "language_info": {
   "codemirror_mode": {
    "name": "ipython",
    "version": 3
   },
   "file_extension": ".py",
   "mimetype": "text/x-python",
   "name": "python",
   "nbconvert_exporter": "python",
   "pygments_lexer": "ipython3",
   "version": "3.10.6"
  }
 },
 "nbformat": 4,
 "nbformat_minor": 5
}
